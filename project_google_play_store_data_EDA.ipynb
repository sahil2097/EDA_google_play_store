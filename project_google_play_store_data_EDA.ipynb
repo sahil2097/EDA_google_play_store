{
 "cells": [
  {
   "cell_type": "markdown",
   "id": "0a523057",
   "metadata": {},
   "source": [
    "# EDA on Education apps data from google play store"
   ]
  },
  {
   "cell_type": "code",
   "execution_count": 1,
   "id": "dd8ec78c",
   "metadata": {},
   "outputs": [],
   "source": [
    "import pandas as pd\n",
    "import matplotlib.pyplot as plt\n",
    "import seaborn as sns\n",
    "import warnings\n",
    "warnings.filterwarnings(\"ignore\")\n"
   ]
  },
  {
   "cell_type": "code",
   "execution_count": 2,
   "id": "3f0e0867",
   "metadata": {},
   "outputs": [],
   "source": [
    "df = pd.read_csv(r'C:\\Users\\sahil\\PycharmProjects\\app1\\children education app_data.csv')"
   ]
  },
  {
   "cell_type": "code",
   "execution_count": 3,
   "id": "2de5a6a8",
   "metadata": {},
   "outputs": [],
   "source": [
    "df1 = pd.read_csv(r'C:\\Users\\sahil\\PycharmProjects\\app1\\civil exam app_data.csv')"
   ]
  },
  {
   "cell_type": "code",
   "execution_count": 4,
   "id": "16b3ed72",
   "metadata": {},
   "outputs": [],
   "source": [
    "df2 = pd.read_csv(r'C:\\Users\\sahil\\PycharmProjects\\app1\\coaching apps_data.csv')"
   ]
  },
  {
   "cell_type": "code",
   "execution_count": 5,
   "id": "3dbef42e",
   "metadata": {},
   "outputs": [],
   "source": [
    "df3 = pd.read_csv(r'C:\\Users\\sahil\\PycharmProjects\\app1\\coding apps_data.csv')"
   ]
  },
  {
   "cell_type": "code",
   "execution_count": 6,
   "id": "70690006",
   "metadata": {},
   "outputs": [],
   "source": [
    "df4 = pd.read_csv(r'C:\\Users\\sahil\\PycharmProjects\\app1\\edtech apps in india_data.csv')"
   ]
  },
  {
   "cell_type": "code",
   "execution_count": 7,
   "id": "933816a3",
   "metadata": {},
   "outputs": [],
   "source": [
    "df5 = pd.read_csv(r'C:\\Users\\sahil\\PycharmProjects\\app1\\entrance exam app_data.csv')"
   ]
  },
  {
   "cell_type": "code",
   "execution_count": 8,
   "id": "b147dd69",
   "metadata": {},
   "outputs": [],
   "source": [
    "df6 = pd.read_csv(r'C:\\Users\\sahil\\PycharmProjects\\app1\\higher education apps_data.csv')"
   ]
  },
  {
   "cell_type": "code",
   "execution_count": 9,
   "id": "00d2b9d2",
   "metadata": {},
   "outputs": [],
   "source": [
    "df7 = pd.read_csv(r'C:\\Users\\sahil\\PycharmProjects\\app1\\language teaching apps_data.csv')"
   ]
  },
  {
   "cell_type": "code",
   "execution_count": 10,
   "id": "68f53675",
   "metadata": {},
   "outputs": [],
   "source": [
    "df8 = pd.read_csv(r'C:\\Users\\sahil\\PycharmProjects\\app1\\maths apps_data.csv')"
   ]
  },
  {
   "cell_type": "code",
   "execution_count": 11,
   "id": "9397827b",
   "metadata": {},
   "outputs": [],
   "source": [
    "df9 = pd.read_csv(r'C:\\Users\\sahil\\PycharmProjects\\app1\\medical education apps_data.csv')"
   ]
  },
  {
   "cell_type": "code",
   "execution_count": 12,
   "id": "622e6f65",
   "metadata": {},
   "outputs": [],
   "source": [
    "df10 = pd.read_csv(r'C:\\Users\\sahil\\PycharmProjects\\app1\\online course apps_data.csv')"
   ]
  },
  {
   "cell_type": "code",
   "execution_count": 13,
   "id": "0c8f9934",
   "metadata": {},
   "outputs": [],
   "source": [
    "df11 = pd.read_csv(r'C:\\Users\\sahil\\PycharmProjects\\app1\\sports education apps_data.csv')"
   ]
  },
  {
   "cell_type": "code",
   "execution_count": 14,
   "id": "4cb30c25",
   "metadata": {},
   "outputs": [],
   "source": [
    "# Concatinate all the data \n",
    "education = pd.concat([df1,df2,df3,df4,df5,df6,df7,df8,df9,df10,df11], axis = 0)"
   ]
  },
  {
   "cell_type": "code",
   "execution_count": 15,
   "id": "38d09735",
   "metadata": {},
   "outputs": [],
   "source": [
    "education = education.iloc[:,1:]"
   ]
  },
  {
   "cell_type": "code",
   "execution_count": 16,
   "id": "53b9aba1",
   "metadata": {},
   "outputs": [
    {
     "data": {
      "text/html": [
       "<div>\n",
       "<style scoped>\n",
       "    .dataframe tbody tr th:only-of-type {\n",
       "        vertical-align: middle;\n",
       "    }\n",
       "\n",
       "    .dataframe tbody tr th {\n",
       "        vertical-align: top;\n",
       "    }\n",
       "\n",
       "    .dataframe thead th {\n",
       "        text-align: right;\n",
       "    }\n",
       "</style>\n",
       "<table border=\"1\" class=\"dataframe\">\n",
       "  <thead>\n",
       "    <tr style=\"text-align: right;\">\n",
       "      <th></th>\n",
       "      <th>title</th>\n",
       "      <th>description</th>\n",
       "      <th>descriptionHTML</th>\n",
       "      <th>summary</th>\n",
       "      <th>installs</th>\n",
       "      <th>minInstalls</th>\n",
       "      <th>realInstalls</th>\n",
       "      <th>score</th>\n",
       "      <th>ratings</th>\n",
       "      <th>reviews</th>\n",
       "      <th>...</th>\n",
       "      <th>contentRatingDescription</th>\n",
       "      <th>adSupported</th>\n",
       "      <th>containsAds</th>\n",
       "      <th>released</th>\n",
       "      <th>updated</th>\n",
       "      <th>version</th>\n",
       "      <th>recentChanges</th>\n",
       "      <th>recentChangesHTML</th>\n",
       "      <th>appId</th>\n",
       "      <th>url</th>\n",
       "    </tr>\n",
       "  </thead>\n",
       "  <tbody>\n",
       "    <tr>\n",
       "      <th>0</th>\n",
       "      <td>All UPSC Papers Prelims &amp; Main</td>\n",
       "      <td>For the best preparation of 2022 UPSC Civil Se...</td>\n",
       "      <td>For the best preparation of 2022 UPSC Civil Se...</td>\n",
       "      <td>Get All UPSC Civil Services Mains Papers &amp;  Pr...</td>\n",
       "      <td>1,000,000+</td>\n",
       "      <td>1000000</td>\n",
       "      <td>1351319</td>\n",
       "      <td>4.428571</td>\n",
       "      <td>37716</td>\n",
       "      <td>10</td>\n",
       "      <td>...</td>\n",
       "      <td>NaN</td>\n",
       "      <td>True</td>\n",
       "      <td>True</td>\n",
       "      <td>Jan 5, 2019</td>\n",
       "      <td>1664368038</td>\n",
       "      <td>5.8</td>\n",
       "      <td>** Civil Services 2022 Main (Compulsory, Optio...</td>\n",
       "      <td>** Civil Services 2022 Main (Compulsory, Optio...</td>\n",
       "      <td>com.Lastyear.upscpapers</td>\n",
       "      <td>https://play.google.com/store/apps/details?id=...</td>\n",
       "    </tr>\n",
       "    <tr>\n",
       "      <th>1</th>\n",
       "      <td>UPSC IAS Syllabus Preparation</td>\n",
       "      <td>The &lt;b&gt;UPSC 2022: IAS/UPSC Prelims MOCK Test P...</td>\n",
       "      <td>The &lt;b&gt;UPSC 2022: IAS/UPSC Prelims MOCK Test P...</td>\n",
       "      <td>UPSC IAS Exam Prep App: CSAT, Current affairs,...</td>\n",
       "      <td>1,000,000+</td>\n",
       "      <td>1000000</td>\n",
       "      <td>1711785</td>\n",
       "      <td>4.766667</td>\n",
       "      <td>23653</td>\n",
       "      <td>8</td>\n",
       "      <td>...</td>\n",
       "      <td>NaN</td>\n",
       "      <td>False</td>\n",
       "      <td>False</td>\n",
       "      <td>Mar 28, 2017</td>\n",
       "      <td>1660912532</td>\n",
       "      <td>3.5.8_upsc</td>\n",
       "      <td>Pretty cool release by our android team that y...</td>\n",
       "      <td>Pretty cool release by our android team that y...</td>\n",
       "      <td>com.edurev.upsc</td>\n",
       "      <td>https://play.google.com/store/apps/details?id=...</td>\n",
       "    </tr>\n",
       "    <tr>\n",
       "      <th>2</th>\n",
       "      <td>Exam Preparation: Live Classes</td>\n",
       "      <td>Trusted by 3 crore+ users, &lt;b&gt;BYJU'S Exam Prep...</td>\n",
       "      <td>Trusted by 3 crore+ users, &lt;b&gt;BYJU&amp;#39;S Exam ...</td>\n",
       "      <td>Exam Preparation for CDS, IBPS PO, SSC CGL, CT...</td>\n",
       "      <td>10,000,000+</td>\n",
       "      <td>10000000</td>\n",
       "      <td>27163136</td>\n",
       "      <td>4.050000</td>\n",
       "      <td>774286</td>\n",
       "      <td>127</td>\n",
       "      <td>...</td>\n",
       "      <td>NaN</td>\n",
       "      <td>False</td>\n",
       "      <td>False</td>\n",
       "      <td>Sep 6, 2015</td>\n",
       "      <td>1664796011</td>\n",
       "      <td>11.59</td>\n",
       "      <td>NaN</td>\n",
       "      <td>NaN</td>\n",
       "      <td>co.gradeup.android</td>\n",
       "      <td>https://play.google.com/store/apps/details?id=...</td>\n",
       "    </tr>\n",
       "    <tr>\n",
       "      <th>3</th>\n",
       "      <td>UPSC IAS Preparation App</td>\n",
       "      <td>UPSC Civil Services is one of the most popular...</td>\n",
       "      <td>UPSC Civil Services is one of the most popular...</td>\n",
       "      <td>Download Testbook UPSC Civil Services Preparat...</td>\n",
       "      <td>50,000+</td>\n",
       "      <td>50000</td>\n",
       "      <td>54988</td>\n",
       "      <td>0.000000</td>\n",
       "      <td>0</td>\n",
       "      <td>0</td>\n",
       "      <td>...</td>\n",
       "      <td>NaN</td>\n",
       "      <td>False</td>\n",
       "      <td>False</td>\n",
       "      <td>Sep 6, 2021</td>\n",
       "      <td>1664190157</td>\n",
       "      <td>6.13.17-upsc</td>\n",
       "      <td>NaN</td>\n",
       "      <td>NaN</td>\n",
       "      <td>com.testbook.tbapp.upsc</td>\n",
       "      <td>https://play.google.com/store/apps/details?id=...</td>\n",
       "    </tr>\n",
       "    <tr>\n",
       "      <th>4</th>\n",
       "      <td>UPSC IAS Exam Preparation</td>\n",
       "      <td>UPSC and IAS Exam Preparation 2022 App contain...</td>\n",
       "      <td>UPSC and IAS Exam Preparation 2022 App contain...</td>\n",
       "      <td>UPSC  App Contains Current Affairs, Notes, Pre...</td>\n",
       "      <td>50,000+</td>\n",
       "      <td>50000</td>\n",
       "      <td>52449</td>\n",
       "      <td>0.000000</td>\n",
       "      <td>0</td>\n",
       "      <td>0</td>\n",
       "      <td>...</td>\n",
       "      <td>NaN</td>\n",
       "      <td>True</td>\n",
       "      <td>True</td>\n",
       "      <td>Oct 27, 2021</td>\n",
       "      <td>1635321587</td>\n",
       "      <td>1</td>\n",
       "      <td>UPSC  App Contains Current Affairs, Notes, Pre...</td>\n",
       "      <td>UPSC  App Contains Current Affairs, Notes, Pre...</td>\n",
       "      <td>upsc.ias.exam</td>\n",
       "      <td>https://play.google.com/store/apps/details?id=...</td>\n",
       "    </tr>\n",
       "  </tbody>\n",
       "</table>\n",
       "<p>5 rows × 44 columns</p>\n",
       "</div>"
      ],
      "text/plain": [
       "                            title  \\\n",
       "0  All UPSC Papers Prelims & Main   \n",
       "1   UPSC IAS Syllabus Preparation   \n",
       "2  Exam Preparation: Live Classes   \n",
       "3        UPSC IAS Preparation App   \n",
       "4       UPSC IAS Exam Preparation   \n",
       "\n",
       "                                         description  \\\n",
       "0  For the best preparation of 2022 UPSC Civil Se...   \n",
       "1  The <b>UPSC 2022: IAS/UPSC Prelims MOCK Test P...   \n",
       "2  Trusted by 3 crore+ users, <b>BYJU'S Exam Prep...   \n",
       "3  UPSC Civil Services is one of the most popular...   \n",
       "4  UPSC and IAS Exam Preparation 2022 App contain...   \n",
       "\n",
       "                                     descriptionHTML  \\\n",
       "0  For the best preparation of 2022 UPSC Civil Se...   \n",
       "1  The <b>UPSC 2022: IAS/UPSC Prelims MOCK Test P...   \n",
       "2  Trusted by 3 crore+ users, <b>BYJU&#39;S Exam ...   \n",
       "3  UPSC Civil Services is one of the most popular...   \n",
       "4  UPSC and IAS Exam Preparation 2022 App contain...   \n",
       "\n",
       "                                             summary     installs  \\\n",
       "0  Get All UPSC Civil Services Mains Papers &  Pr...   1,000,000+   \n",
       "1  UPSC IAS Exam Prep App: CSAT, Current affairs,...   1,000,000+   \n",
       "2  Exam Preparation for CDS, IBPS PO, SSC CGL, CT...  10,000,000+   \n",
       "3  Download Testbook UPSC Civil Services Preparat...      50,000+   \n",
       "4  UPSC  App Contains Current Affairs, Notes, Pre...      50,000+   \n",
       "\n",
       "   minInstalls  realInstalls     score  ratings  reviews  ...  \\\n",
       "0      1000000       1351319  4.428571    37716       10  ...   \n",
       "1      1000000       1711785  4.766667    23653        8  ...   \n",
       "2     10000000      27163136  4.050000   774286      127  ...   \n",
       "3        50000         54988  0.000000        0        0  ...   \n",
       "4        50000         52449  0.000000        0        0  ...   \n",
       "\n",
       "  contentRatingDescription  adSupported  containsAds      released  \\\n",
       "0                      NaN         True         True   Jan 5, 2019   \n",
       "1                      NaN        False        False  Mar 28, 2017   \n",
       "2                      NaN        False        False   Sep 6, 2015   \n",
       "3                      NaN        False        False   Sep 6, 2021   \n",
       "4                      NaN         True         True  Oct 27, 2021   \n",
       "\n",
       "      updated       version  \\\n",
       "0  1664368038           5.8   \n",
       "1  1660912532    3.5.8_upsc   \n",
       "2  1664796011         11.59   \n",
       "3  1664190157  6.13.17-upsc   \n",
       "4  1635321587             1   \n",
       "\n",
       "                                       recentChanges  \\\n",
       "0  ** Civil Services 2022 Main (Compulsory, Optio...   \n",
       "1  Pretty cool release by our android team that y...   \n",
       "2                                                NaN   \n",
       "3                                                NaN   \n",
       "4  UPSC  App Contains Current Affairs, Notes, Pre...   \n",
       "\n",
       "                                   recentChangesHTML                    appId  \\\n",
       "0  ** Civil Services 2022 Main (Compulsory, Optio...  com.Lastyear.upscpapers   \n",
       "1  Pretty cool release by our android team that y...          com.edurev.upsc   \n",
       "2                                                NaN       co.gradeup.android   \n",
       "3                                                NaN  com.testbook.tbapp.upsc   \n",
       "4  UPSC  App Contains Current Affairs, Notes, Pre...            upsc.ias.exam   \n",
       "\n",
       "                                                 url  \n",
       "0  https://play.google.com/store/apps/details?id=...  \n",
       "1  https://play.google.com/store/apps/details?id=...  \n",
       "2  https://play.google.com/store/apps/details?id=...  \n",
       "3  https://play.google.com/store/apps/details?id=...  \n",
       "4  https://play.google.com/store/apps/details?id=...  \n",
       "\n",
       "[5 rows x 44 columns]"
      ]
     },
     "execution_count": 16,
     "metadata": {},
     "output_type": "execute_result"
    }
   ],
   "source": [
    "education.head()"
   ]
  },
  {
   "cell_type": "code",
   "execution_count": 17,
   "id": "35a964d8",
   "metadata": {},
   "outputs": [
    {
     "data": {
      "text/plain": [
       "Index(['title', 'description', 'descriptionHTML', 'summary', 'installs',\n",
       "       'minInstalls', 'realInstalls', 'score', 'ratings', 'reviews',\n",
       "       'histogram', 'price', 'free', 'currency', 'sale', 'saleTime',\n",
       "       'originalPrice', 'saleText', 'offersIAP', 'inAppProductPrice',\n",
       "       'developer', 'developerId', 'developerEmail', 'developerWebsite',\n",
       "       'developerAddress', 'privacyPolicy', 'genre', 'genreId', 'icon',\n",
       "       'headerImage', 'screenshots', 'video', 'videoImage', 'contentRating',\n",
       "       'contentRatingDescription', 'adSupported', 'containsAds', 'released',\n",
       "       'updated', 'version', 'recentChanges', 'recentChangesHTML', 'appId',\n",
       "       'url'],\n",
       "      dtype='object')"
      ]
     },
     "execution_count": 17,
     "metadata": {},
     "output_type": "execute_result"
    }
   ],
   "source": [
    "education.columns"
   ]
  },
  {
   "cell_type": "code",
   "execution_count": 18,
   "id": "ebb7d270",
   "metadata": {},
   "outputs": [],
   "source": [
    "# Dropping the columns which are not required for EDA\n",
    "education_new = education.drop(columns = ['reviews','histogram','headerImage','screenshots', 'video', 'videoImage','url'])"
   ]
  },
  {
   "cell_type": "code",
   "execution_count": 19,
   "id": "22c6f2b4",
   "metadata": {},
   "outputs": [
    {
     "data": {
      "text/plain": [
       "Index(['title', 'description', 'descriptionHTML', 'summary', 'installs',\n",
       "       'minInstalls', 'realInstalls', 'score', 'ratings', 'price', 'free',\n",
       "       'currency', 'sale', 'saleTime', 'originalPrice', 'saleText',\n",
       "       'offersIAP', 'inAppProductPrice', 'developer', 'developerId',\n",
       "       'developerEmail', 'developerWebsite', 'developerAddress',\n",
       "       'privacyPolicy', 'genre', 'genreId', 'icon', 'contentRating',\n",
       "       'contentRatingDescription', 'adSupported', 'containsAds', 'released',\n",
       "       'updated', 'version', 'recentChanges', 'recentChangesHTML', 'appId'],\n",
       "      dtype='object')"
      ]
     },
     "execution_count": 19,
     "metadata": {},
     "output_type": "execute_result"
    }
   ],
   "source": [
    "education_new.columns"
   ]
  },
  {
   "cell_type": "code",
   "execution_count": 20,
   "id": "9c9d938e",
   "metadata": {},
   "outputs": [
    {
     "data": {
      "text/plain": [
       "(302, 37)"
      ]
     },
     "execution_count": 20,
     "metadata": {},
     "output_type": "execute_result"
    }
   ],
   "source": [
    "# Size of the data\n",
    "education_new.shape"
   ]
  },
  {
   "cell_type": "code",
   "execution_count": 21,
   "id": "2f193745",
   "metadata": {},
   "outputs": [
    {
     "data": {
      "text/plain": [
       "11"
      ]
     },
     "execution_count": 21,
     "metadata": {},
     "output_type": "execute_result"
    }
   ],
   "source": [
    "# Checking for duplicates\n",
    "education_new.duplicated().sum()"
   ]
  },
  {
   "cell_type": "code",
   "execution_count": 22,
   "id": "8e467568",
   "metadata": {},
   "outputs": [],
   "source": [
    "# Dropping the duplicates\n",
    "education_new.drop_duplicates(inplace = True)"
   ]
  },
  {
   "cell_type": "code",
   "execution_count": 23,
   "id": "74cbb60e",
   "metadata": {},
   "outputs": [
    {
     "data": {
      "text/plain": [
       "(291, 37)"
      ]
     },
     "execution_count": 23,
     "metadata": {},
     "output_type": "execute_result"
    }
   ],
   "source": [
    "education_new.shape"
   ]
  },
  {
   "cell_type": "code",
   "execution_count": 24,
   "id": "428815da",
   "metadata": {},
   "outputs": [
    {
     "data": {
      "text/plain": [
       "minInstalls      False\n",
       "realInstalls     False\n",
       "score            False\n",
       "ratings          False\n",
       "price            False\n",
       "free             False\n",
       "sale              True\n",
       "saleTime         False\n",
       "originalPrice    False\n",
       "saleText         False\n",
       "offersIAP        False\n",
       "adSupported      False\n",
       "containsAds      False\n",
       "updated          False\n",
       "dtype: bool"
      ]
     },
     "execution_count": 24,
     "metadata": {},
     "output_type": "execute_result"
    }
   ],
   "source": [
    "# Checking for columns which has zero varience\n",
    "(education_new.var() == 0)"
   ]
  },
  {
   "cell_type": "code",
   "execution_count": 25,
   "id": "cf9045b0",
   "metadata": {},
   "outputs": [
    {
     "data": {
      "text/html": [
       "<div>\n",
       "<style scoped>\n",
       "    .dataframe tbody tr th:only-of-type {\n",
       "        vertical-align: middle;\n",
       "    }\n",
       "\n",
       "    .dataframe tbody tr th {\n",
       "        vertical-align: top;\n",
       "    }\n",
       "\n",
       "    .dataframe thead th {\n",
       "        text-align: right;\n",
       "    }\n",
       "</style>\n",
       "<table border=\"1\" class=\"dataframe\">\n",
       "  <thead>\n",
       "    <tr style=\"text-align: right;\">\n",
       "      <th></th>\n",
       "      <th>index</th>\n",
       "      <th>title</th>\n",
       "      <th>description</th>\n",
       "      <th>descriptionHTML</th>\n",
       "      <th>summary</th>\n",
       "      <th>installs</th>\n",
       "      <th>minInstalls</th>\n",
       "      <th>realInstalls</th>\n",
       "      <th>score</th>\n",
       "      <th>ratings</th>\n",
       "      <th>...</th>\n",
       "      <th>contentRating</th>\n",
       "      <th>contentRatingDescription</th>\n",
       "      <th>adSupported</th>\n",
       "      <th>containsAds</th>\n",
       "      <th>released</th>\n",
       "      <th>updated</th>\n",
       "      <th>version</th>\n",
       "      <th>recentChanges</th>\n",
       "      <th>recentChangesHTML</th>\n",
       "      <th>appId</th>\n",
       "    </tr>\n",
       "  </thead>\n",
       "  <tbody>\n",
       "    <tr>\n",
       "      <th>0</th>\n",
       "      <td>0</td>\n",
       "      <td>All UPSC Papers Prelims &amp; Main</td>\n",
       "      <td>For the best preparation of 2022 UPSC Civil Se...</td>\n",
       "      <td>For the best preparation of 2022 UPSC Civil Se...</td>\n",
       "      <td>Get All UPSC Civil Services Mains Papers &amp;  Pr...</td>\n",
       "      <td>1,000,000+</td>\n",
       "      <td>1000000</td>\n",
       "      <td>1351319</td>\n",
       "      <td>4.428571</td>\n",
       "      <td>37716</td>\n",
       "      <td>...</td>\n",
       "      <td>Everyone</td>\n",
       "      <td>NaN</td>\n",
       "      <td>True</td>\n",
       "      <td>True</td>\n",
       "      <td>Jan 5, 2019</td>\n",
       "      <td>1664368038</td>\n",
       "      <td>5.8</td>\n",
       "      <td>** Civil Services 2022 Main (Compulsory, Optio...</td>\n",
       "      <td>** Civil Services 2022 Main (Compulsory, Optio...</td>\n",
       "      <td>com.Lastyear.upscpapers</td>\n",
       "    </tr>\n",
       "    <tr>\n",
       "      <th>1</th>\n",
       "      <td>1</td>\n",
       "      <td>UPSC IAS Syllabus Preparation</td>\n",
       "      <td>The &lt;b&gt;UPSC 2022: IAS/UPSC Prelims MOCK Test P...</td>\n",
       "      <td>The &lt;b&gt;UPSC 2022: IAS/UPSC Prelims MOCK Test P...</td>\n",
       "      <td>UPSC IAS Exam Prep App: CSAT, Current affairs,...</td>\n",
       "      <td>1,000,000+</td>\n",
       "      <td>1000000</td>\n",
       "      <td>1711785</td>\n",
       "      <td>4.766667</td>\n",
       "      <td>23653</td>\n",
       "      <td>...</td>\n",
       "      <td>Everyone</td>\n",
       "      <td>NaN</td>\n",
       "      <td>False</td>\n",
       "      <td>False</td>\n",
       "      <td>Mar 28, 2017</td>\n",
       "      <td>1660912532</td>\n",
       "      <td>3.5.8_upsc</td>\n",
       "      <td>Pretty cool release by our android team that y...</td>\n",
       "      <td>Pretty cool release by our android team that y...</td>\n",
       "      <td>com.edurev.upsc</td>\n",
       "    </tr>\n",
       "    <tr>\n",
       "      <th>2</th>\n",
       "      <td>2</td>\n",
       "      <td>Exam Preparation: Live Classes</td>\n",
       "      <td>Trusted by 3 crore+ users, &lt;b&gt;BYJU'S Exam Prep...</td>\n",
       "      <td>Trusted by 3 crore+ users, &lt;b&gt;BYJU&amp;#39;S Exam ...</td>\n",
       "      <td>Exam Preparation for CDS, IBPS PO, SSC CGL, CT...</td>\n",
       "      <td>10,000,000+</td>\n",
       "      <td>10000000</td>\n",
       "      <td>27163136</td>\n",
       "      <td>4.050000</td>\n",
       "      <td>774286</td>\n",
       "      <td>...</td>\n",
       "      <td>Everyone</td>\n",
       "      <td>NaN</td>\n",
       "      <td>False</td>\n",
       "      <td>False</td>\n",
       "      <td>Sep 6, 2015</td>\n",
       "      <td>1664796011</td>\n",
       "      <td>11.59</td>\n",
       "      <td>NaN</td>\n",
       "      <td>NaN</td>\n",
       "      <td>co.gradeup.android</td>\n",
       "    </tr>\n",
       "    <tr>\n",
       "      <th>3</th>\n",
       "      <td>3</td>\n",
       "      <td>UPSC IAS Preparation App</td>\n",
       "      <td>UPSC Civil Services is one of the most popular...</td>\n",
       "      <td>UPSC Civil Services is one of the most popular...</td>\n",
       "      <td>Download Testbook UPSC Civil Services Preparat...</td>\n",
       "      <td>50,000+</td>\n",
       "      <td>50000</td>\n",
       "      <td>54988</td>\n",
       "      <td>0.000000</td>\n",
       "      <td>0</td>\n",
       "      <td>...</td>\n",
       "      <td>Everyone</td>\n",
       "      <td>NaN</td>\n",
       "      <td>False</td>\n",
       "      <td>False</td>\n",
       "      <td>Sep 6, 2021</td>\n",
       "      <td>1664190157</td>\n",
       "      <td>6.13.17-upsc</td>\n",
       "      <td>NaN</td>\n",
       "      <td>NaN</td>\n",
       "      <td>com.testbook.tbapp.upsc</td>\n",
       "    </tr>\n",
       "    <tr>\n",
       "      <th>4</th>\n",
       "      <td>4</td>\n",
       "      <td>UPSC IAS Exam Preparation</td>\n",
       "      <td>UPSC and IAS Exam Preparation 2022 App contain...</td>\n",
       "      <td>UPSC and IAS Exam Preparation 2022 App contain...</td>\n",
       "      <td>UPSC  App Contains Current Affairs, Notes, Pre...</td>\n",
       "      <td>50,000+</td>\n",
       "      <td>50000</td>\n",
       "      <td>52449</td>\n",
       "      <td>0.000000</td>\n",
       "      <td>0</td>\n",
       "      <td>...</td>\n",
       "      <td>Everyone</td>\n",
       "      <td>NaN</td>\n",
       "      <td>True</td>\n",
       "      <td>True</td>\n",
       "      <td>Oct 27, 2021</td>\n",
       "      <td>1635321587</td>\n",
       "      <td>1</td>\n",
       "      <td>UPSC  App Contains Current Affairs, Notes, Pre...</td>\n",
       "      <td>UPSC  App Contains Current Affairs, Notes, Pre...</td>\n",
       "      <td>upsc.ias.exam</td>\n",
       "    </tr>\n",
       "    <tr>\n",
       "      <th>...</th>\n",
       "      <td>...</td>\n",
       "      <td>...</td>\n",
       "      <td>...</td>\n",
       "      <td>...</td>\n",
       "      <td>...</td>\n",
       "      <td>...</td>\n",
       "      <td>...</td>\n",
       "      <td>...</td>\n",
       "      <td>...</td>\n",
       "      <td>...</td>\n",
       "      <td>...</td>\n",
       "      <td>...</td>\n",
       "      <td>...</td>\n",
       "      <td>...</td>\n",
       "      <td>...</td>\n",
       "      <td>...</td>\n",
       "      <td>...</td>\n",
       "      <td>...</td>\n",
       "      <td>...</td>\n",
       "      <td>...</td>\n",
       "      <td>...</td>\n",
       "    </tr>\n",
       "    <tr>\n",
       "      <th>286</th>\n",
       "      <td>25</td>\n",
       "      <td>Physical Education 11th Notes</td>\n",
       "      <td>&lt;b&gt;\\r\\n\\r\\nClass 11th Physical Education NCERT...</td>\n",
       "      <td>&lt;b&gt;&lt;br&gt;&lt;br&gt;Class 11th Physical Education NCERT...</td>\n",
       "      <td>This App helps students understand concepts in...</td>\n",
       "      <td>10,000+</td>\n",
       "      <td>10000</td>\n",
       "      <td>24555</td>\n",
       "      <td>0.000000</td>\n",
       "      <td>0</td>\n",
       "      <td>...</td>\n",
       "      <td>Everyone</td>\n",
       "      <td>NaN</td>\n",
       "      <td>True</td>\n",
       "      <td>True</td>\n",
       "      <td>Jun 25, 2020</td>\n",
       "      <td>1664525742</td>\n",
       "      <td>9.8</td>\n",
       "      <td>New Physical Education Content Added</td>\n",
       "      <td>New Physical Education Content Added</td>\n",
       "      <td>physicaleducationhindi11.surenapps</td>\n",
       "    </tr>\n",
       "    <tr>\n",
       "      <th>287</th>\n",
       "      <td>26</td>\n",
       "      <td>Sports GK in Hindi 2022</td>\n",
       "      <td>खेलों का इतिहास एवं मैदान व उपकरण का माप आधारि...</td>\n",
       "      <td>खेलों का इतिहास एवं मैदान व उपकरण का माप आधारि...</td>\n",
       "      <td>Chapter wise detailed question answer</td>\n",
       "      <td>10,000+</td>\n",
       "      <td>10000</td>\n",
       "      <td>10503</td>\n",
       "      <td>0.000000</td>\n",
       "      <td>0</td>\n",
       "      <td>...</td>\n",
       "      <td>Everyone</td>\n",
       "      <td>NaN</td>\n",
       "      <td>True</td>\n",
       "      <td>True</td>\n",
       "      <td>Apr 10, 2019</td>\n",
       "      <td>1643373218</td>\n",
       "      <td>3.5</td>\n",
       "      <td>Fix some error</td>\n",
       "      <td>Fix some error</td>\n",
       "      <td>com.sportindia</td>\n",
       "    </tr>\n",
       "    <tr>\n",
       "      <th>288</th>\n",
       "      <td>27</td>\n",
       "      <td>Sports Gk In Hindi -Khel Kud (</td>\n",
       "      <td>Sports GK in Hindi (Khel Kud)- Samanya Gyan MC...</td>\n",
       "      <td>Sports GK in Hindi (Khel Kud)- Samanya Gyan MC...</td>\n",
       "      <td>Sports GK in Hindi 10000+ General Knowledge ap...</td>\n",
       "      <td>5,000+</td>\n",
       "      <td>5000</td>\n",
       "      <td>8398</td>\n",
       "      <td>0.000000</td>\n",
       "      <td>0</td>\n",
       "      <td>...</td>\n",
       "      <td>Everyone</td>\n",
       "      <td>NaN</td>\n",
       "      <td>True</td>\n",
       "      <td>True</td>\n",
       "      <td>Jul 13, 2020</td>\n",
       "      <td>1594643235</td>\n",
       "      <td>1.0</td>\n",
       "      <td>Sports GK MCQ HINDI” app, user will get 10000+...</td>\n",
       "      <td>Sports GK MCQ HINDI” app, user will get 10000+...</td>\n",
       "      <td>com.chhoker.sportsgk</td>\n",
       "    </tr>\n",
       "    <tr>\n",
       "      <th>289</th>\n",
       "      <td>28</td>\n",
       "      <td>PHYSICAL EDUCATION TGT/PGT</td>\n",
       "      <td>YCT expert team launches one of the best book ...</td>\n",
       "      <td>YCT expert team launches one of the best book ...</td>\n",
       "      <td>PHYSICAL EDUCATION CHAPTER-WISE SOLVED PAPER T...</td>\n",
       "      <td>500+</td>\n",
       "      <td>500</td>\n",
       "      <td>690</td>\n",
       "      <td>0.000000</td>\n",
       "      <td>0</td>\n",
       "      <td>...</td>\n",
       "      <td>Everyone</td>\n",
       "      <td>NaN</td>\n",
       "      <td>True</td>\n",
       "      <td>True</td>\n",
       "      <td>NaN</td>\n",
       "      <td>1656272403</td>\n",
       "      <td>1.0</td>\n",
       "      <td>PHYSICAL EDUCATION CHAPTER-WISE SOLVED PAPER T...</td>\n",
       "      <td>PHYSICAL EDUCATION CHAPTER-WISE SOLVED PAPER T...</td>\n",
       "      <td>com.yctbook.physical_educ_sp_2022_tgt_pgt_gic_...</td>\n",
       "    </tr>\n",
       "    <tr>\n",
       "      <th>290</th>\n",
       "      <td>29</td>\n",
       "      <td>DIKSHA - for School Education</td>\n",
       "      <td>The DIKSHA platform offers teachers, students ...</td>\n",
       "      <td>The DIKSHA platform offers teachers, students ...</td>\n",
       "      <td>DIKSHA is India's national digital infrastruct...</td>\n",
       "      <td>10,000,000+</td>\n",
       "      <td>10000000</td>\n",
       "      <td>36746234</td>\n",
       "      <td>4.260000</td>\n",
       "      <td>421409</td>\n",
       "      <td>...</td>\n",
       "      <td>Everyone</td>\n",
       "      <td>NaN</td>\n",
       "      <td>True</td>\n",
       "      <td>True</td>\n",
       "      <td>NaN</td>\n",
       "      <td>1665120245</td>\n",
       "      <td>4.10.1033</td>\n",
       "      <td>NaN</td>\n",
       "      <td>NaN</td>\n",
       "      <td>in.gov.diksha.app</td>\n",
       "    </tr>\n",
       "  </tbody>\n",
       "</table>\n",
       "<p>291 rows × 38 columns</p>\n",
       "</div>"
      ],
      "text/plain": [
       "     index                           title  \\\n",
       "0        0  All UPSC Papers Prelims & Main   \n",
       "1        1   UPSC IAS Syllabus Preparation   \n",
       "2        2  Exam Preparation: Live Classes   \n",
       "3        3        UPSC IAS Preparation App   \n",
       "4        4       UPSC IAS Exam Preparation   \n",
       "..     ...                             ...   \n",
       "286     25   Physical Education 11th Notes   \n",
       "287     26         Sports GK in Hindi 2022   \n",
       "288     27  Sports Gk In Hindi -Khel Kud (   \n",
       "289     28      PHYSICAL EDUCATION TGT/PGT   \n",
       "290     29   DIKSHA - for School Education   \n",
       "\n",
       "                                           description  \\\n",
       "0    For the best preparation of 2022 UPSC Civil Se...   \n",
       "1    The <b>UPSC 2022: IAS/UPSC Prelims MOCK Test P...   \n",
       "2    Trusted by 3 crore+ users, <b>BYJU'S Exam Prep...   \n",
       "3    UPSC Civil Services is one of the most popular...   \n",
       "4    UPSC and IAS Exam Preparation 2022 App contain...   \n",
       "..                                                 ...   \n",
       "286  <b>\\r\\n\\r\\nClass 11th Physical Education NCERT...   \n",
       "287  खेलों का इतिहास एवं मैदान व उपकरण का माप आधारि...   \n",
       "288  Sports GK in Hindi (Khel Kud)- Samanya Gyan MC...   \n",
       "289  YCT expert team launches one of the best book ...   \n",
       "290  The DIKSHA platform offers teachers, students ...   \n",
       "\n",
       "                                       descriptionHTML  \\\n",
       "0    For the best preparation of 2022 UPSC Civil Se...   \n",
       "1    The <b>UPSC 2022: IAS/UPSC Prelims MOCK Test P...   \n",
       "2    Trusted by 3 crore+ users, <b>BYJU&#39;S Exam ...   \n",
       "3    UPSC Civil Services is one of the most popular...   \n",
       "4    UPSC and IAS Exam Preparation 2022 App contain...   \n",
       "..                                                 ...   \n",
       "286  <b><br><br>Class 11th Physical Education NCERT...   \n",
       "287  खेलों का इतिहास एवं मैदान व उपकरण का माप आधारि...   \n",
       "288  Sports GK in Hindi (Khel Kud)- Samanya Gyan MC...   \n",
       "289  YCT expert team launches one of the best book ...   \n",
       "290  The DIKSHA platform offers teachers, students ...   \n",
       "\n",
       "                                               summary     installs  \\\n",
       "0    Get All UPSC Civil Services Mains Papers &  Pr...   1,000,000+   \n",
       "1    UPSC IAS Exam Prep App: CSAT, Current affairs,...   1,000,000+   \n",
       "2    Exam Preparation for CDS, IBPS PO, SSC CGL, CT...  10,000,000+   \n",
       "3    Download Testbook UPSC Civil Services Preparat...      50,000+   \n",
       "4    UPSC  App Contains Current Affairs, Notes, Pre...      50,000+   \n",
       "..                                                 ...          ...   \n",
       "286  This App helps students understand concepts in...      10,000+   \n",
       "287              Chapter wise detailed question answer      10,000+   \n",
       "288  Sports GK in Hindi 10000+ General Knowledge ap...       5,000+   \n",
       "289  PHYSICAL EDUCATION CHAPTER-WISE SOLVED PAPER T...         500+   \n",
       "290  DIKSHA is India's national digital infrastruct...  10,000,000+   \n",
       "\n",
       "     minInstalls  realInstalls     score  ratings  ...  contentRating  \\\n",
       "0        1000000       1351319  4.428571    37716  ...       Everyone   \n",
       "1        1000000       1711785  4.766667    23653  ...       Everyone   \n",
       "2       10000000      27163136  4.050000   774286  ...       Everyone   \n",
       "3          50000         54988  0.000000        0  ...       Everyone   \n",
       "4          50000         52449  0.000000        0  ...       Everyone   \n",
       "..           ...           ...       ...      ...  ...            ...   \n",
       "286        10000         24555  0.000000        0  ...       Everyone   \n",
       "287        10000         10503  0.000000        0  ...       Everyone   \n",
       "288         5000          8398  0.000000        0  ...       Everyone   \n",
       "289          500           690  0.000000        0  ...       Everyone   \n",
       "290     10000000      36746234  4.260000   421409  ...       Everyone   \n",
       "\n",
       "     contentRatingDescription adSupported  containsAds      released  \\\n",
       "0                         NaN        True         True   Jan 5, 2019   \n",
       "1                         NaN       False        False  Mar 28, 2017   \n",
       "2                         NaN       False        False   Sep 6, 2015   \n",
       "3                         NaN       False        False   Sep 6, 2021   \n",
       "4                         NaN        True         True  Oct 27, 2021   \n",
       "..                        ...         ...          ...           ...   \n",
       "286                       NaN        True         True  Jun 25, 2020   \n",
       "287                       NaN        True         True  Apr 10, 2019   \n",
       "288                       NaN        True         True  Jul 13, 2020   \n",
       "289                       NaN        True         True           NaN   \n",
       "290                       NaN        True         True           NaN   \n",
       "\n",
       "        updated       version  \\\n",
       "0    1664368038           5.8   \n",
       "1    1660912532    3.5.8_upsc   \n",
       "2    1664796011         11.59   \n",
       "3    1664190157  6.13.17-upsc   \n",
       "4    1635321587             1   \n",
       "..          ...           ...   \n",
       "286  1664525742           9.8   \n",
       "287  1643373218           3.5   \n",
       "288  1594643235           1.0   \n",
       "289  1656272403           1.0   \n",
       "290  1665120245     4.10.1033   \n",
       "\n",
       "                                         recentChanges  \\\n",
       "0    ** Civil Services 2022 Main (Compulsory, Optio...   \n",
       "1    Pretty cool release by our android team that y...   \n",
       "2                                                  NaN   \n",
       "3                                                  NaN   \n",
       "4    UPSC  App Contains Current Affairs, Notes, Pre...   \n",
       "..                                                 ...   \n",
       "286               New Physical Education Content Added   \n",
       "287                                     Fix some error   \n",
       "288  Sports GK MCQ HINDI” app, user will get 10000+...   \n",
       "289  PHYSICAL EDUCATION CHAPTER-WISE SOLVED PAPER T...   \n",
       "290                                                NaN   \n",
       "\n",
       "                                     recentChangesHTML  \\\n",
       "0    ** Civil Services 2022 Main (Compulsory, Optio...   \n",
       "1    Pretty cool release by our android team that y...   \n",
       "2                                                  NaN   \n",
       "3                                                  NaN   \n",
       "4    UPSC  App Contains Current Affairs, Notes, Pre...   \n",
       "..                                                 ...   \n",
       "286               New Physical Education Content Added   \n",
       "287                                     Fix some error   \n",
       "288  Sports GK MCQ HINDI” app, user will get 10000+...   \n",
       "289  PHYSICAL EDUCATION CHAPTER-WISE SOLVED PAPER T...   \n",
       "290                                                NaN   \n",
       "\n",
       "                                                 appId  \n",
       "0                              com.Lastyear.upscpapers  \n",
       "1                                      com.edurev.upsc  \n",
       "2                                   co.gradeup.android  \n",
       "3                              com.testbook.tbapp.upsc  \n",
       "4                                        upsc.ias.exam  \n",
       "..                                                 ...  \n",
       "286                 physicaleducationhindi11.surenapps  \n",
       "287                                     com.sportindia  \n",
       "288                               com.chhoker.sportsgk  \n",
       "289  com.yctbook.physical_educ_sp_2022_tgt_pgt_gic_...  \n",
       "290                                  in.gov.diksha.app  \n",
       "\n",
       "[291 rows x 38 columns]"
      ]
     },
     "execution_count": 25,
     "metadata": {},
     "output_type": "execute_result"
    }
   ],
   "source": [
    "education_new.reset_index()"
   ]
  },
  {
   "cell_type": "code",
   "execution_count": 26,
   "id": "114cfd2b",
   "metadata": {},
   "outputs": [
    {
     "data": {
      "text/plain": [
       "title                         0\n",
       "description                   0\n",
       "descriptionHTML               0\n",
       "summary                       0\n",
       "installs                      0\n",
       "minInstalls                   0\n",
       "realInstalls                  0\n",
       "score                         0\n",
       "ratings                       0\n",
       "price                         0\n",
       "free                          0\n",
       "currency                      0\n",
       "sale                          0\n",
       "saleTime                    291\n",
       "originalPrice               291\n",
       "saleText                    291\n",
       "offersIAP                     0\n",
       "inAppProductPrice           206\n",
       "developer                     0\n",
       "developerId                   0\n",
       "developerEmail                0\n",
       "developerWebsite             43\n",
       "developerAddress            135\n",
       "privacyPolicy                 7\n",
       "genre                         0\n",
       "genreId                       0\n",
       "icon                          0\n",
       "contentRating                 0\n",
       "contentRatingDescription    290\n",
       "adSupported                   0\n",
       "containsAds                   0\n",
       "released                     17\n",
       "updated                       0\n",
       "version                       0\n",
       "recentChanges                81\n",
       "recentChangesHTML            81\n",
       "appId                         0\n",
       "dtype: int64"
      ]
     },
     "execution_count": 26,
     "metadata": {},
     "output_type": "execute_result"
    }
   ],
   "source": [
    "education_new.isnull().sum()"
   ]
  },
  {
   "cell_type": "code",
   "execution_count": 27,
   "id": "540200be",
   "metadata": {},
   "outputs": [],
   "source": [
    "education_one = education_new.drop(columns=['saleTime','originalPrice','saleText','contentRatingDescription'])"
   ]
  },
  {
   "cell_type": "code",
   "execution_count": 28,
   "id": "b669156b",
   "metadata": {},
   "outputs": [
    {
     "data": {
      "text/plain": [
       "(291, 33)"
      ]
     },
     "execution_count": 28,
     "metadata": {},
     "output_type": "execute_result"
    }
   ],
   "source": [
    "education_one.shape"
   ]
  },
  {
   "cell_type": "code",
   "execution_count": 29,
   "id": "4bfe6884",
   "metadata": {},
   "outputs": [
    {
     "data": {
      "text/plain": [
       "title                  0\n",
       "description            0\n",
       "descriptionHTML        0\n",
       "summary                0\n",
       "installs               0\n",
       "minInstalls            0\n",
       "realInstalls           0\n",
       "score                  0\n",
       "ratings                0\n",
       "price                  0\n",
       "free                   0\n",
       "currency               0\n",
       "sale                   0\n",
       "offersIAP              0\n",
       "inAppProductPrice    206\n",
       "developer              0\n",
       "developerId            0\n",
       "developerEmail         0\n",
       "developerWebsite      43\n",
       "developerAddress     135\n",
       "privacyPolicy          7\n",
       "genre                  0\n",
       "genreId                0\n",
       "icon                   0\n",
       "contentRating          0\n",
       "adSupported            0\n",
       "containsAds            0\n",
       "released              17\n",
       "updated                0\n",
       "version                0\n",
       "recentChanges         81\n",
       "recentChangesHTML     81\n",
       "appId                  0\n",
       "dtype: int64"
      ]
     },
     "execution_count": 29,
     "metadata": {},
     "output_type": "execute_result"
    }
   ],
   "source": [
    "education_one.isna().sum()"
   ]
  },
  {
   "cell_type": "code",
   "execution_count": 30,
   "id": "a5377071",
   "metadata": {},
   "outputs": [
    {
     "name": "stdout",
     "output_type": "stream",
     "text": [
      "<class 'pandas.core.frame.DataFrame'>\n",
      "Int64Index: 291 entries, 0 to 29\n",
      "Data columns (total 33 columns):\n",
      " #   Column             Non-Null Count  Dtype  \n",
      "---  ------             --------------  -----  \n",
      " 0   title              291 non-null    object \n",
      " 1   description        291 non-null    object \n",
      " 2   descriptionHTML    291 non-null    object \n",
      " 3   summary            291 non-null    object \n",
      " 4   installs           291 non-null    object \n",
      " 5   minInstalls        291 non-null    int64  \n",
      " 6   realInstalls       291 non-null    int64  \n",
      " 7   score              291 non-null    float64\n",
      " 8   ratings            291 non-null    int64  \n",
      " 9   price              291 non-null    float64\n",
      " 10  free               291 non-null    bool   \n",
      " 11  currency           291 non-null    object \n",
      " 12  sale               291 non-null    bool   \n",
      " 13  offersIAP          291 non-null    bool   \n",
      " 14  inAppProductPrice  85 non-null     object \n",
      " 15  developer          291 non-null    object \n",
      " 16  developerId        291 non-null    object \n",
      " 17  developerEmail     291 non-null    object \n",
      " 18  developerWebsite   248 non-null    object \n",
      " 19  developerAddress   156 non-null    object \n",
      " 20  privacyPolicy      284 non-null    object \n",
      " 21  genre              291 non-null    object \n",
      " 22  genreId            291 non-null    object \n",
      " 23  icon               291 non-null    object \n",
      " 24  contentRating      291 non-null    object \n",
      " 25  adSupported        291 non-null    bool   \n",
      " 26  containsAds        291 non-null    bool   \n",
      " 27  released           274 non-null    object \n",
      " 28  updated            291 non-null    int64  \n",
      " 29  version            291 non-null    object \n",
      " 30  recentChanges      210 non-null    object \n",
      " 31  recentChangesHTML  210 non-null    object \n",
      " 32  appId              291 non-null    object \n",
      "dtypes: bool(5), float64(2), int64(4), object(22)\n",
      "memory usage: 67.4+ KB\n"
     ]
    }
   ],
   "source": [
    "education_one.info()"
   ]
  },
  {
   "cell_type": "code",
   "execution_count": 31,
   "id": "6939bd58",
   "metadata": {},
   "outputs": [
    {
     "data": {
      "text/plain": [
       "array(['1,000,000+', '10,000,000+', '50,000+', '100,000+', '10,000+',\n",
       "       '500,000+', '1,000+', '5,000+', '500+', '5,000,000+',\n",
       "       '100,000,000+', '100+', '50,000,000+', '10+', '0+', '50+'],\n",
       "      dtype=object)"
      ]
     },
     "execution_count": 31,
     "metadata": {},
     "output_type": "execute_result"
    }
   ],
   "source": [
    "education_one['installs'].unique()"
   ]
  },
  {
   "cell_type": "code",
   "execution_count": 32,
   "id": "487a2586",
   "metadata": {},
   "outputs": [
    {
     "data": {
      "text/plain": [
       "array([0.  , 1.49])"
      ]
     },
     "execution_count": 32,
     "metadata": {},
     "output_type": "execute_result"
    }
   ],
   "source": [
    "education_one['price'].unique()"
   ]
  },
  {
   "cell_type": "code",
   "execution_count": 33,
   "id": "8a3f855b",
   "metadata": {},
   "outputs": [],
   "source": [
    "chars_to_remove=['+',',']\n",
    "cols_to_clean=['installs']\n",
    "for item in chars_to_remove:\n",
    "    for col in cols_to_clean:\n",
    "        education_one[col]=education_one[col].str.replace(item,'')"
   ]
  },
  {
   "cell_type": "code",
   "execution_count": 34,
   "id": "4734fbc3",
   "metadata": {},
   "outputs": [
    {
     "data": {
      "text/plain": [
       "array(['1000000', '10000000', '50000', '100000', '10000', '500000',\n",
       "       '1000', '5000', '500', '5000000', '100000000', '100', '50000000',\n",
       "       '10', '0', '50'], dtype=object)"
      ]
     },
     "execution_count": 34,
     "metadata": {},
     "output_type": "execute_result"
    }
   ],
   "source": [
    "education_one.installs.unique()"
   ]
  },
  {
   "cell_type": "code",
   "execution_count": 35,
   "id": "0b0534e1",
   "metadata": {},
   "outputs": [],
   "source": [
    "education_one['installs']= education_one.installs.astype('int')"
   ]
  },
  {
   "cell_type": "code",
   "execution_count": 36,
   "id": "186aecdb",
   "metadata": {},
   "outputs": [
    {
     "data": {
      "text/plain": [
       "array(['Education', 'Books & Reference', 'Educational', 'Sports',\n",
       "       'Health & Fitness', 'Productivity', 'Lifestyle', 'Tools', 'Puzzle',\n",
       "       'Business', 'News & Magazines', 'Medical', 'Events', 'Finance'],\n",
       "      dtype=object)"
      ]
     },
     "execution_count": 36,
     "metadata": {},
     "output_type": "execute_result"
    }
   ],
   "source": [
    "education_one['genre'].unique()"
   ]
  },
  {
   "cell_type": "code",
   "execution_count": 37,
   "id": "d8b157c6",
   "metadata": {},
   "outputs": [
    {
     "data": {
      "text/plain": [
       "239"
      ]
     },
     "execution_count": 37,
     "metadata": {},
     "output_type": "execute_result"
    }
   ],
   "source": [
    "# Total apps with genre as education or educational\n",
    "len(education_one[education_one['genre'] == 'Education']) + len(education_one[education_one['genre'] == 'Educational'])"
   ]
  },
  {
   "cell_type": "code",
   "execution_count": 38,
   "id": "91afbe4e",
   "metadata": {},
   "outputs": [
    {
     "data": {
      "text/plain": [
       "array([  1000000,  10000000,     50000,    100000,     10000,    500000,\n",
       "            1000,      5000,       500,   5000000, 100000000,       100,\n",
       "        50000000,        10,         0,        50], dtype=int64)"
      ]
     },
     "execution_count": 38,
     "metadata": {},
     "output_type": "execute_result"
    }
   ],
   "source": [
    "education_one['minInstalls'].unique()"
   ]
  },
  {
   "cell_type": "code",
   "execution_count": 39,
   "id": "81518937",
   "metadata": {},
   "outputs": [
    {
     "data": {
      "text/plain": [
       "array([  1351319,   1711785,  27163136,     54988,     52449,   1570077,\n",
       "          220771,    182080,     27184,     40619,    637294,    160695,\n",
       "          251449,      4362,      2002,  18176313,    298139,     71757,\n",
       "            6479,       781,    255904,      7933,     15654,    136065,\n",
       "        13164098,    314406,    839179,    105537,      2098,     18588,\n",
       "          542472,     50483,     80412,    159787,       555,     42230,\n",
       "         5172817,     10204,     14923,     16382,      1783,     76319,\n",
       "          629962,      7180, 114971996,     23692,   1306344,     21498,\n",
       "          228997,     44615,      1804,       419,    171133,     21944,\n",
       "           54835,     98370,     46498,     13803,   9467037,  13736216,\n",
       "         7316839,   1792898,   1564715,   8494145,     43078,   6021239,\n",
       "          834192,   3772965,   1389997,   1904561,   4182148,    195154,\n",
       "         1002177,    953244,    270883,    331699,    619946,   2564742,\n",
       "          293426,    192448,    290965,    487365,   6610158,    191534,\n",
       "         1156401,  24897901,   1060817,    280435,      1145,  61813713,\n",
       "        44463839,      3714,     15388,   9126097,      4538,  12428337,\n",
       "         5217372,    211785,      3641,     44634,      2734,    191064,\n",
       "        12419434,     16096,    235723,  15764630,    408377,     12382,\n",
       "           36875,    126142,        47,   1360349,   4702457,      6605,\n",
       "             644,    201949,     67128,     19130,    152741,     16790,\n",
       "           12401,    292588,      1768,   3140274,     20194,     23238,\n",
       "            1322,      9327,      5308,    582229,     24576,    154495,\n",
       "          278502,      3678,      1380,     23837,        38,     16842,\n",
       "            6612,     85002,      2198,      1350,     32206,  20237285,\n",
       "             649,   8157084,       541,       657, 366312703,  14763207,\n",
       "           18112,    120964,     14236,   1059815,    136344,       106,\n",
       "        10720803,    788006,    108314,   9497458,  36746234,         0,\n",
       "            1564,     19790,       151,       215,  19319330,  49177844,\n",
       "        29435851,      8828,  12748091,   6903066,   2224597,   1606575,\n",
       "        35678566,  38802354,  15243685,  16196118,  54003759, 191981233,\n",
       "        12963083,    185971, 190045682,  19389990,  33823348,   3187223,\n",
       "           58758,    977976,    953970,  14486540,  24788563,   2480388,\n",
       "        57029121,  10864824,   4775107,    609574,   1200091,   7837680,\n",
       "             948,    500607,    256653,   1279191,   1241566,     61743,\n",
       "          443687,     20609,   8225076,       187,   1851434,      3611,\n",
       "            6723,    125801,     24343,    980824,     45117,       309,\n",
       "              27,       708,    680569,    910797,       248,    650167,\n",
       "         2249371,    214850,        92,   1848116,  17914649,   3426848,\n",
       "         1423447,   3708482,   1037694,     41413,      5262,   3182312,\n",
       "         2098898,      8979,  10345635,   3976764,    130403,     23794,\n",
       "         2328089,   4967651,   1195904, 279708719,     13106,     49308,\n",
       "           69231,     23109,      8321,      3671,     55610,      5746,\n",
       "            3934,      9614,       890,      3941,     35187,      8723,\n",
       "           19137,     20399,      3212,       330,      3220,     18341,\n",
       "           26813,      2632,      5754,       278,     57606,       136,\n",
       "            3019,     24555,     10503,      8398,       690], dtype=int64)"
      ]
     },
     "execution_count": 39,
     "metadata": {},
     "output_type": "execute_result"
    }
   ],
   "source": [
    "education_one['realInstalls'].unique()"
   ]
  },
  {
   "cell_type": "code",
   "execution_count": 40,
   "id": "f9efad18",
   "metadata": {},
   "outputs": [
    {
     "data": {
      "text/html": [
       "<div>\n",
       "<style scoped>\n",
       "    .dataframe tbody tr th:only-of-type {\n",
       "        vertical-align: middle;\n",
       "    }\n",
       "\n",
       "    .dataframe tbody tr th {\n",
       "        vertical-align: top;\n",
       "    }\n",
       "\n",
       "    .dataframe thead th {\n",
       "        text-align: right;\n",
       "    }\n",
       "</style>\n",
       "<table border=\"1\" class=\"dataframe\">\n",
       "  <thead>\n",
       "    <tr style=\"text-align: right;\">\n",
       "      <th></th>\n",
       "      <th>installs</th>\n",
       "      <th>minInstalls</th>\n",
       "      <th>realInstalls</th>\n",
       "      <th>score</th>\n",
       "      <th>ratings</th>\n",
       "      <th>price</th>\n",
       "      <th>updated</th>\n",
       "    </tr>\n",
       "  </thead>\n",
       "  <tbody>\n",
       "    <tr>\n",
       "      <th>count</th>\n",
       "      <td>2.910000e+02</td>\n",
       "      <td>2.910000e+02</td>\n",
       "      <td>2.910000e+02</td>\n",
       "      <td>291.000000</td>\n",
       "      <td>2.910000e+02</td>\n",
       "      <td>291.000000</td>\n",
       "      <td>2.910000e+02</td>\n",
       "    </tr>\n",
       "    <tr>\n",
       "      <th>mean</th>\n",
       "      <td>4.906653e+06</td>\n",
       "      <td>4.906653e+06</td>\n",
       "      <td>1.025006e+07</td>\n",
       "      <td>2.337639</td>\n",
       "      <td>2.002706e+05</td>\n",
       "      <td>0.005120</td>\n",
       "      <td>1.647503e+09</td>\n",
       "    </tr>\n",
       "    <tr>\n",
       "      <th>std</th>\n",
       "      <td>1.633832e+07</td>\n",
       "      <td>1.633832e+07</td>\n",
       "      <td>3.963019e+07</td>\n",
       "      <td>2.143590</td>\n",
       "      <td>1.167485e+06</td>\n",
       "      <td>0.087345</td>\n",
       "      <td>2.742298e+07</td>\n",
       "    </tr>\n",
       "    <tr>\n",
       "      <th>min</th>\n",
       "      <td>0.000000e+00</td>\n",
       "      <td>0.000000e+00</td>\n",
       "      <td>0.000000e+00</td>\n",
       "      <td>0.000000</td>\n",
       "      <td>0.000000e+00</td>\n",
       "      <td>0.000000</td>\n",
       "      <td>1.480991e+09</td>\n",
       "    </tr>\n",
       "    <tr>\n",
       "      <th>25%</th>\n",
       "      <td>1.000000e+04</td>\n",
       "      <td>1.000000e+04</td>\n",
       "      <td>1.401950e+04</td>\n",
       "      <td>0.000000</td>\n",
       "      <td>0.000000e+00</td>\n",
       "      <td>0.000000</td>\n",
       "      <td>1.639353e+09</td>\n",
       "    </tr>\n",
       "    <tr>\n",
       "      <th>50%</th>\n",
       "      <td>1.000000e+05</td>\n",
       "      <td>1.000000e+05</td>\n",
       "      <td>1.915340e+05</td>\n",
       "      <td>3.681818</td>\n",
       "      <td>4.610000e+02</td>\n",
       "      <td>0.000000</td>\n",
       "      <td>1.661171e+09</td>\n",
       "    </tr>\n",
       "    <tr>\n",
       "      <th>75%</th>\n",
       "      <td>1.000000e+06</td>\n",
       "      <td>1.000000e+06</td>\n",
       "      <td>3.567665e+06</td>\n",
       "      <td>4.387578</td>\n",
       "      <td>3.790900e+04</td>\n",
       "      <td>0.000000</td>\n",
       "      <td>1.664052e+09</td>\n",
       "    </tr>\n",
       "    <tr>\n",
       "      <th>max</th>\n",
       "      <td>1.000000e+08</td>\n",
       "      <td>1.000000e+08</td>\n",
       "      <td>3.663127e+08</td>\n",
       "      <td>4.912162</td>\n",
       "      <td>1.361578e+07</td>\n",
       "      <td>1.490000</td>\n",
       "      <td>1.665150e+09</td>\n",
       "    </tr>\n",
       "  </tbody>\n",
       "</table>\n",
       "</div>"
      ],
      "text/plain": [
       "           installs   minInstalls  realInstalls       score       ratings  \\\n",
       "count  2.910000e+02  2.910000e+02  2.910000e+02  291.000000  2.910000e+02   \n",
       "mean   4.906653e+06  4.906653e+06  1.025006e+07    2.337639  2.002706e+05   \n",
       "std    1.633832e+07  1.633832e+07  3.963019e+07    2.143590  1.167485e+06   \n",
       "min    0.000000e+00  0.000000e+00  0.000000e+00    0.000000  0.000000e+00   \n",
       "25%    1.000000e+04  1.000000e+04  1.401950e+04    0.000000  0.000000e+00   \n",
       "50%    1.000000e+05  1.000000e+05  1.915340e+05    3.681818  4.610000e+02   \n",
       "75%    1.000000e+06  1.000000e+06  3.567665e+06    4.387578  3.790900e+04   \n",
       "max    1.000000e+08  1.000000e+08  3.663127e+08    4.912162  1.361578e+07   \n",
       "\n",
       "            price       updated  \n",
       "count  291.000000  2.910000e+02  \n",
       "mean     0.005120  1.647503e+09  \n",
       "std      0.087345  2.742298e+07  \n",
       "min      0.000000  1.480991e+09  \n",
       "25%      0.000000  1.639353e+09  \n",
       "50%      0.000000  1.661171e+09  \n",
       "75%      0.000000  1.664052e+09  \n",
       "max      1.490000  1.665150e+09  "
      ]
     },
     "execution_count": 40,
     "metadata": {},
     "output_type": "execute_result"
    }
   ],
   "source": [
    "education_one.describe()"
   ]
  },
  {
   "cell_type": "raw",
   "id": "3717c942",
   "metadata": {},
   "source": [
    "Inference:-\n",
    "    max score for an app is 4.91 and min score is 0\n",
    "    most of the apps are Free"
   ]
  },
  {
   "cell_type": "code",
   "execution_count": 42,
   "id": "30bfcef7",
   "metadata": {},
   "outputs": [
    {
     "data": {
      "text/plain": [
       "array([ True, False])"
      ]
     },
     "execution_count": 42,
     "metadata": {},
     "output_type": "execute_result"
    }
   ],
   "source": [
    "# Unique value in free feature\n",
    "education_one.free.unique()"
   ]
  },
  {
   "cell_type": "code",
   "execution_count": 43,
   "id": "d0700933",
   "metadata": {},
   "outputs": [
    {
     "data": {
      "text/plain": [
       "array([False])"
      ]
     },
     "execution_count": 43,
     "metadata": {},
     "output_type": "execute_result"
    }
   ],
   "source": [
    "# Unique value in sale feature\n",
    "education_one['sale'].unique()"
   ]
  },
  {
   "cell_type": "raw",
   "id": "aaebea02",
   "metadata": {},
   "source": [
    "Inference :- Since there is only 1 value in it then this can be dropped"
   ]
  },
  {
   "cell_type": "code",
   "execution_count": 44,
   "id": "a0dac90f",
   "metadata": {},
   "outputs": [],
   "source": [
    "education_one.drop(columns=['sale'],inplace=True)"
   ]
  },
  {
   "cell_type": "code",
   "execution_count": 45,
   "id": "3fa201ed",
   "metadata": {},
   "outputs": [
    {
     "data": {
      "text/plain": [
       "array([False,  True])"
      ]
     },
     "execution_count": 45,
     "metadata": {},
     "output_type": "execute_result"
    }
   ],
   "source": [
    "# Unique value in 'offersIAP'\n",
    "education_one['offersIAP'].unique()"
   ]
  },
  {
   "cell_type": "raw",
   "id": "a3d3b6ae",
   "metadata": {},
   "source": [
    "Inference - Its a boolean value"
   ]
  },
  {
   "cell_type": "code",
   "execution_count": 46,
   "id": "3b166dd9",
   "metadata": {},
   "outputs": [
    {
     "data": {
      "text/plain": [
       "array([ True, False])"
      ]
     },
     "execution_count": 46,
     "metadata": {},
     "output_type": "execute_result"
    }
   ],
   "source": [
    "# Unique values in adsupport column\n",
    "education_one['adSupported'].unique()"
   ]
  },
  {
   "cell_type": "code",
   "execution_count": 47,
   "id": "3ffdee7a",
   "metadata": {},
   "outputs": [
    {
     "data": {
      "text/plain": [
       "array([ True, False])"
      ]
     },
     "execution_count": 47,
     "metadata": {},
     "output_type": "execute_result"
    }
   ],
   "source": [
    "education_one['containsAds'].unique()"
   ]
  },
  {
   "cell_type": "code",
   "execution_count": 49,
   "id": "752ff4cc",
   "metadata": {},
   "outputs": [],
   "source": [
    "education_one.drop(columns=['updated'], inplace=True)"
   ]
  },
  {
   "cell_type": "code",
   "execution_count": null,
   "id": "ebed396b",
   "metadata": {},
   "outputs": [],
   "source": [
    "education_one.drop(columns=['index'], inplace=True)"
   ]
  },
  {
   "cell_type": "code",
   "execution_count": 51,
   "id": "ddfbc1dc",
   "metadata": {},
   "outputs": [],
   "source": [
    "education_one['free'] = education_one['free'].astype('str')\n",
    "education_one['offersIAP'] = education_one['offersIAP'].astype('str')\n",
    "education_one['adSupported'] = education_one['adSupported'].astype('str')\n",
    "education_one['containsAds'] = education_one['containsAds'].astype('str')"
   ]
  },
  {
   "cell_type": "code",
   "execution_count": 52,
   "id": "25265e40",
   "metadata": {},
   "outputs": [],
   "source": [
    "numeric_col = [col for col in education_one.columns if education_one[col].dtype != 'O']\n",
    "categorical_col = [col for col in education_one.columns if education_one[col].dtype == 'O']"
   ]
  },
  {
   "cell_type": "code",
   "execution_count": 53,
   "id": "39f3aac8",
   "metadata": {},
   "outputs": [
    {
     "name": "stdout",
     "output_type": "stream",
     "text": [
      " There are 6 and names are ['installs', 'minInstalls', 'realInstalls', 'score', 'ratings', 'price']\n",
      "There are 25 and names are ['title', 'description', 'descriptionHTML', 'summary', 'free', 'currency', 'offersIAP', 'inAppProductPrice', 'developer', 'developerId', 'developerEmail', 'developerWebsite', 'developerAddress', 'privacyPolicy', 'genre', 'genreId', 'icon', 'contentRating', 'adSupported', 'containsAds', 'released', 'version', 'recentChanges', 'recentChangesHTML', 'appId']\n"
     ]
    }
   ],
   "source": [
    "print(f\" There are {len(numeric_col)} and names are {numeric_col}\")\n",
    "print(f\"There are {len(categorical_col)} and names are {categorical_col}\")"
   ]
  },
  {
   "cell_type": "code",
   "execution_count": 54,
   "id": "ed3c69c0",
   "metadata": {},
   "outputs": [],
   "source": [
    "education_one = education_one.reset_index(drop=True)"
   ]
  },
  {
   "cell_type": "code",
   "execution_count": 55,
   "id": "744f998b",
   "metadata": {},
   "outputs": [
    {
     "data": {
      "image/png": "[encoded data removed]",
      "text/plain": [
       "<Figure size 1080x1080 with 6 Axes>"
      ]
     },
     "metadata": {
      "needs_background": "light"
     },
     "output_type": "display_data"
    }
   ],
   "source": [
    "plt.figure(figsize = (15,15))\n",
    "plt.suptitle(\"Edtech apps\", fontsize=20, fontweight='bold')\n",
    "\n",
    "for i in range(0, len(numeric_col)):\n",
    "    plt.subplot(5,3,i+1)\n",
    "    sns.kdeplot(x=education_one[numeric_col[i]], shade = True, color ='b')\n",
    "    plt.xlabel(numeric_col[i])\n",
    "    plt.tight_layout()\n",
    "\n"
   ]
  },
  {
   "cell_type": "raw",
   "id": "2b230424",
   "metadata": {},
   "source": [
    "Inference - \n",
    "- installs, miniInstalls, and realInstalls are showing log-normal distribution\n",
    "- Most of the apps are free to use\n",
    "\n"
   ]
  },
  {
   "cell_type": "code",
   "execution_count": 56,
   "id": "8d9d17a9",
   "metadata": {},
   "outputs": [
    {
     "data": {
      "image/png": "[encoded data removed]",
      "text/plain": [
       "<Figure size 1080x1080 with 6 Axes>"
      ]
     },
     "metadata": {
      "needs_background": "light"
     },
     "output_type": "display_data"
    }
   ],
   "source": [
    "plt.figure(figsize=(15,15))\n",
    "plt.suptitle(\" Outliers detection\")\n",
    "\n",
    "for i in range(len(numeric_col)):\n",
    "    plt.subplot(4,3,i+1)\n",
    "    sns.boxplot( x = numeric_col[i], data=education_one)\n",
    "    plt.xlabel(numeric_col[i])\n",
    "    plt.tight_layout()"
   ]
  },
  {
   "cell_type": "raw",
   "id": "ab30a43d",
   "metadata": {},
   "source": [
    "## Inference\n",
    "## There are outliers in all except score"
   ]
  },
  {
   "cell_type": "code",
   "execution_count": 57,
   "id": "a33fdbda",
   "metadata": {},
   "outputs": [
    {
     "data": {
      "image/png": "[encoded data removed]",
      "text/plain": [
       "<Figure size 1080x1080 with 6 Axes>"
      ]
     },
     "metadata": {
      "needs_background": "light"
     },
     "output_type": "display_data"
    }
   ],
   "source": [
    "plt.figure(figsize=(15,15))\n",
    "plt.suptitle(\"Analysis on numeric column\")\n",
    "\n",
    "for i in range(len(numeric_col)):\n",
    "    plt.subplot(4,3,i+1)\n",
    "    sns.violinplot(x=numeric_col[i], data = education_one, color='g')\n",
    "    plt.xlabel(numeric_col[i])\n",
    "    plt.tight_layout()"
   ]
  },
  {
   "cell_type": "markdown",
   "id": "9000f77f",
   "metadata": {},
   "source": [
    "Inference \n",
    "- Max score are between 0 & 1 or 4 & 5\n",
    "- Very few apps are there which have more than 2 crore installs"
   ]
  },
  {
   "cell_type": "code",
   "execution_count": 58,
   "id": "081274da",
   "metadata": {},
   "outputs": [
    {
     "data": {
      "image/png": "[encoded data removed]",
      "text/plain": [
       "<Figure size 1440x360 with 1 Axes>"
      ]
     },
     "metadata": {
      "needs_background": "light"
     },
     "output_type": "display_data"
    }
   ],
   "source": [
    "# Showing distribution of apps according to genre\n",
    "plt.figure(figsize=(20,5))\n",
    "sns.countplot(education_one['genre'])\n",
    "plt.show()"
   ]
  },
  {
   "cell_type": "raw",
   "id": "20ce9caf",
   "metadata": {},
   "source": [
    "# Max apps are related to education genre"
   ]
  },
  {
   "cell_type": "code",
   "execution_count": 59,
   "id": "41eb61dd",
   "metadata": {},
   "outputs": [
    {
     "data": {
      "image/png": "[encoded data removed]",
      "text/plain": [
       "<Figure size 720x360 with 1 Axes>"
      ]
     },
     "metadata": {
      "needs_background": "light"
     },
     "output_type": "display_data"
    }
   ],
   "source": [
    "# How many apps contains ads\n",
    "plt.figure(figsize=(10,5))\n",
    "sns.countplot(education_one['containsAds'])\n",
    "plt.show()"
   ]
  },
  {
   "cell_type": "markdown",
   "id": "0749e6b4",
   "metadata": {},
   "source": [
    "Inference :- 1/3rd apps contains ads"
   ]
  },
  {
   "cell_type": "code",
   "execution_count": 60,
   "id": "689f5265",
   "metadata": {},
   "outputs": [
    {
     "data": {
      "image/png": "[encoded data removed]",
      "text/plain": [
       "<Figure size 720x360 with 1 Axes>"
      ]
     },
     "metadata": {
      "needs_background": "light"
     },
     "output_type": "display_data"
    }
   ],
   "source": [
    "# Free apps distribution\n",
    "plt.figure(figsize=(10,5))\n",
    "sns.countplot(education_one['free'])\n",
    "plt.show()"
   ]
  },
  {
   "cell_type": "code",
   "execution_count": 61,
   "id": "14f992c2",
   "metadata": {},
   "outputs": [
    {
     "data": {
      "text/plain": [
       "1"
      ]
     },
     "execution_count": 61,
     "metadata": {},
     "output_type": "execute_result"
    }
   ],
   "source": [
    "# Number of app which is not free\n",
    "len(education_one[education_one['free'] == 'False'])"
   ]
  },
  {
   "cell_type": "markdown",
   "id": "0b71a263",
   "metadata": {},
   "source": [
    "# App which is paid"
   ]
  },
  {
   "cell_type": "code",
   "execution_count": 62,
   "id": "eded351e",
   "metadata": {},
   "outputs": [
    {
     "data": {
      "text/plain": [
       "170    Higher Education Pro\n",
       "Name: title, dtype: object"
      ]
     },
     "execution_count": 62,
     "metadata": {},
     "output_type": "execute_result"
    }
   ],
   "source": [
    "education_one[education_one['free'] =='False']['title']"
   ]
  },
  {
   "cell_type": "markdown",
   "id": "de149ce9",
   "metadata": {},
   "source": [
    "# App which has highest installs"
   ]
  },
  {
   "cell_type": "code",
   "execution_count": 63,
   "id": "52d2624e",
   "metadata": {},
   "outputs": [
    {
     "data": {
      "text/plain": [
       "array([\"BYJU'S – The Learning App\", 'Duolingo: language lessons',\n",
       "       'Photomath', 'Brainly –Math Homework Answers', 'Google Classroom'],\n",
       "      dtype=object)"
      ]
     },
     "execution_count": 63,
     "metadata": {},
     "output_type": "execute_result"
    }
   ],
   "source": [
    "education_one[education_one['installs'] == max(education_one['installs'])]['title'].unique()"
   ]
  },
  {
   "cell_type": "markdown",
   "id": "e8ea8ec1",
   "metadata": {},
   "source": [
    "# App with minimum installs"
   ]
  },
  {
   "cell_type": "code",
   "execution_count": 64,
   "id": "d1df5b16",
   "metadata": {},
   "outputs": [
    {
     "data": {
      "text/plain": [
       "array(['Higher Education Pro'], dtype=object)"
      ]
     },
     "execution_count": 64,
     "metadata": {},
     "output_type": "execute_result"
    }
   ],
   "source": [
    "education_one[education_one['installs'] == min(education_one['installs'])]['title'].unique()"
   ]
  },
  {
   "cell_type": "code",
   "execution_count": 65,
   "id": "47f4dd3e",
   "metadata": {},
   "outputs": [
    {
     "data": {
      "text/plain": [
       "170    0\n",
       "Name: installs, dtype: int32"
      ]
     },
     "execution_count": 65,
     "metadata": {},
     "output_type": "execute_result"
    }
   ],
   "source": [
    "education_one[education_one['title'] == 'Higher Education Pro']['installs']"
   ]
  },
  {
   "cell_type": "markdown",
   "id": "3fb8f1c4",
   "metadata": {},
   "source": [
    "Inference Since Higher Education Pro is a paid app it has 0 installs"
   ]
  },
  {
   "cell_type": "markdown",
   "id": "f73acb4a",
   "metadata": {},
   "source": [
    "# App which has highest score"
   ]
  },
  {
   "cell_type": "code",
   "execution_count": 66,
   "id": "0f6e5c71",
   "metadata": {},
   "outputs": [
    {
     "data": {
      "text/html": [
       "<div>\n",
       "<style scoped>\n",
       "    .dataframe tbody tr th:only-of-type {\n",
       "        vertical-align: middle;\n",
       "    }\n",
       "\n",
       "    .dataframe tbody tr th {\n",
       "        vertical-align: top;\n",
       "    }\n",
       "\n",
       "    .dataframe thead th {\n",
       "        text-align: right;\n",
       "    }\n",
       "</style>\n",
       "<table border=\"1\" class=\"dataframe\">\n",
       "  <thead>\n",
       "    <tr style=\"text-align: right;\">\n",
       "      <th></th>\n",
       "      <th>title</th>\n",
       "      <th>description</th>\n",
       "      <th>descriptionHTML</th>\n",
       "      <th>summary</th>\n",
       "      <th>installs</th>\n",
       "      <th>minInstalls</th>\n",
       "      <th>realInstalls</th>\n",
       "      <th>score</th>\n",
       "      <th>ratings</th>\n",
       "      <th>price</th>\n",
       "      <th>...</th>\n",
       "      <th>genreId</th>\n",
       "      <th>icon</th>\n",
       "      <th>contentRating</th>\n",
       "      <th>adSupported</th>\n",
       "      <th>containsAds</th>\n",
       "      <th>released</th>\n",
       "      <th>version</th>\n",
       "      <th>recentChanges</th>\n",
       "      <th>recentChangesHTML</th>\n",
       "      <th>appId</th>\n",
       "    </tr>\n",
       "  </thead>\n",
       "  <tbody>\n",
       "    <tr>\n",
       "      <th>223</th>\n",
       "      <td>MDCalc Medical Calculator</td>\n",
       "      <td>Join the millions of medical professionals who...</td>\n",
       "      <td>Join the millions of medical professionals who...</td>\n",
       "      <td>Free and fast evidence-based medicine calculat...</td>\n",
       "      <td>500000</td>\n",
       "      <td>500000</td>\n",
       "      <td>980824</td>\n",
       "      <td>4.912162</td>\n",
       "      <td>11186</td>\n",
       "      <td>0.0</td>\n",
       "      <td>...</td>\n",
       "      <td>MEDICAL</td>\n",
       "      <td>https://play-lh.googleusercontent.com/yNDRYk9D...</td>\n",
       "      <td>Everyone</td>\n",
       "      <td>True</td>\n",
       "      <td>True</td>\n",
       "      <td>Apr 15, 2017</td>\n",
       "      <td>4.0.15</td>\n",
       "      <td>NaN</td>\n",
       "      <td>NaN</td>\n",
       "      <td>com.mdaware.mdcalc</td>\n",
       "    </tr>\n",
       "  </tbody>\n",
       "</table>\n",
       "<p>1 rows × 31 columns</p>\n",
       "</div>"
      ],
      "text/plain": [
       "                         title  \\\n",
       "223  MDCalc Medical Calculator   \n",
       "\n",
       "                                           description  \\\n",
       "223  Join the millions of medical professionals who...   \n",
       "\n",
       "                                       descriptionHTML  \\\n",
       "223  Join the millions of medical professionals who...   \n",
       "\n",
       "                                               summary  installs  minInstalls  \\\n",
       "223  Free and fast evidence-based medicine calculat...    500000       500000   \n",
       "\n",
       "     realInstalls     score  ratings  price  ...  genreId  \\\n",
       "223        980824  4.912162    11186    0.0  ...  MEDICAL   \n",
       "\n",
       "                                                  icon contentRating  \\\n",
       "223  https://play-lh.googleusercontent.com/yNDRYk9D...      Everyone   \n",
       "\n",
       "    adSupported containsAds      released version recentChanges  \\\n",
       "223        True        True  Apr 15, 2017  4.0.15           NaN   \n",
       "\n",
       "    recentChangesHTML               appId  \n",
       "223               NaN  com.mdaware.mdcalc  \n",
       "\n",
       "[1 rows x 31 columns]"
      ]
     },
     "execution_count": 66,
     "metadata": {},
     "output_type": "execute_result"
    }
   ],
   "source": [
    "education_one[education_one['score'] == max(education_one['score'])]"
   ]
  },
  {
   "cell_type": "markdown",
   "id": "f35cb1f1",
   "metadata": {},
   "source": [
    "# App with highest number of ratings"
   ]
  },
  {
   "cell_type": "code",
   "execution_count": 67,
   "id": "6b1f308f",
   "metadata": {},
   "outputs": [
    {
     "data": {
      "text/html": [
       "<div>\n",
       "<style scoped>\n",
       "    .dataframe tbody tr th:only-of-type {\n",
       "        vertical-align: middle;\n",
       "    }\n",
       "\n",
       "    .dataframe tbody tr th {\n",
       "        vertical-align: top;\n",
       "    }\n",
       "\n",
       "    .dataframe thead th {\n",
       "        text-align: right;\n",
       "    }\n",
       "</style>\n",
       "<table border=\"1\" class=\"dataframe\">\n",
       "  <thead>\n",
       "    <tr style=\"text-align: right;\">\n",
       "      <th></th>\n",
       "      <th>title</th>\n",
       "      <th>description</th>\n",
       "      <th>descriptionHTML</th>\n",
       "      <th>summary</th>\n",
       "      <th>installs</th>\n",
       "      <th>minInstalls</th>\n",
       "      <th>realInstalls</th>\n",
       "      <th>score</th>\n",
       "      <th>ratings</th>\n",
       "      <th>price</th>\n",
       "      <th>...</th>\n",
       "      <th>genreId</th>\n",
       "      <th>icon</th>\n",
       "      <th>contentRating</th>\n",
       "      <th>adSupported</th>\n",
       "      <th>containsAds</th>\n",
       "      <th>released</th>\n",
       "      <th>version</th>\n",
       "      <th>recentChanges</th>\n",
       "      <th>recentChangesHTML</th>\n",
       "      <th>appId</th>\n",
       "    </tr>\n",
       "  </thead>\n",
       "  <tbody>\n",
       "    <tr>\n",
       "      <th>152</th>\n",
       "      <td>Duolingo: language lessons</td>\n",
       "      <td>Learn a new language with the world’s most-dow...</td>\n",
       "      <td>Learn a new language with the world’s most-dow...</td>\n",
       "      <td>Learn Spanish, French, German, Italian, Englis...</td>\n",
       "      <td>100000000</td>\n",
       "      <td>100000000</td>\n",
       "      <td>366312703</td>\n",
       "      <td>4.605207</td>\n",
       "      <td>13615785</td>\n",
       "      <td>0.0</td>\n",
       "      <td>...</td>\n",
       "      <td>EDUCATION</td>\n",
       "      <td>https://play-lh.googleusercontent.com/hSyebBlY...</td>\n",
       "      <td>Everyone</td>\n",
       "      <td>True</td>\n",
       "      <td>True</td>\n",
       "      <td>May 29, 2013</td>\n",
       "      <td>Varies with device</td>\n",
       "      <td>It’s a bird… it’s a plane… it’s… Super Duo! (W...</td>\n",
       "      <td>It’s a bird… it’s a plane… it’s… Super Duo! (W...</td>\n",
       "      <td>com.duolingo</td>\n",
       "    </tr>\n",
       "  </tbody>\n",
       "</table>\n",
       "<p>1 rows × 31 columns</p>\n",
       "</div>"
      ],
      "text/plain": [
       "                          title  \\\n",
       "152  Duolingo: language lessons   \n",
       "\n",
       "                                           description  \\\n",
       "152  Learn a new language with the world’s most-dow...   \n",
       "\n",
       "                                       descriptionHTML  \\\n",
       "152  Learn a new language with the world’s most-dow...   \n",
       "\n",
       "                                               summary   installs  \\\n",
       "152  Learn Spanish, French, German, Italian, Englis...  100000000   \n",
       "\n",
       "     minInstalls  realInstalls     score   ratings  price  ...    genreId  \\\n",
       "152    100000000     366312703  4.605207  13615785    0.0  ...  EDUCATION   \n",
       "\n",
       "                                                  icon contentRating  \\\n",
       "152  https://play-lh.googleusercontent.com/hSyebBlY...      Everyone   \n",
       "\n",
       "    adSupported containsAds      released             version  \\\n",
       "152        True        True  May 29, 2013  Varies with device   \n",
       "\n",
       "                                         recentChanges  \\\n",
       "152  It’s a bird… it’s a plane… it’s… Super Duo! (W...   \n",
       "\n",
       "                                     recentChangesHTML         appId  \n",
       "152  It’s a bird… it’s a plane… it’s… Super Duo! (W...  com.duolingo  \n",
       "\n",
       "[1 rows x 31 columns]"
      ]
     },
     "execution_count": 67,
     "metadata": {},
     "output_type": "execute_result"
    }
   ],
   "source": [
    "education_one[education_one['ratings'] == max(education_one['ratings'])]"
   ]
  },
  {
   "cell_type": "code",
   "execution_count": 72,
   "id": "ec47a81b",
   "metadata": {},
   "outputs": [],
   "source": [
    "education_one.drop(index=[154,175], inplace = True)"
   ]
  },
  {
   "cell_type": "markdown",
   "id": "7631c129",
   "metadata": {},
   "source": [
    "# Apps with max number of minInstalls"
   ]
  },
  {
   "cell_type": "code",
   "execution_count": 73,
   "id": "d537b03f",
   "metadata": {},
   "outputs": [
    {
     "data": {
      "text/html": [
       "<div>\n",
       "<style scoped>\n",
       "    .dataframe tbody tr th:only-of-type {\n",
       "        vertical-align: middle;\n",
       "    }\n",
       "\n",
       "    .dataframe tbody tr th {\n",
       "        vertical-align: top;\n",
       "    }\n",
       "\n",
       "    .dataframe thead th {\n",
       "        text-align: right;\n",
       "    }\n",
       "</style>\n",
       "<table border=\"1\" class=\"dataframe\">\n",
       "  <thead>\n",
       "    <tr style=\"text-align: right;\">\n",
       "      <th></th>\n",
       "      <th>title</th>\n",
       "      <th>description</th>\n",
       "      <th>descriptionHTML</th>\n",
       "      <th>summary</th>\n",
       "      <th>installs</th>\n",
       "      <th>minInstalls</th>\n",
       "      <th>realInstalls</th>\n",
       "      <th>score</th>\n",
       "      <th>ratings</th>\n",
       "      <th>price</th>\n",
       "      <th>...</th>\n",
       "      <th>genreId</th>\n",
       "      <th>icon</th>\n",
       "      <th>contentRating</th>\n",
       "      <th>adSupported</th>\n",
       "      <th>containsAds</th>\n",
       "      <th>released</th>\n",
       "      <th>version</th>\n",
       "      <th>recentChanges</th>\n",
       "      <th>recentChangesHTML</th>\n",
       "      <th>appId</th>\n",
       "    </tr>\n",
       "  </thead>\n",
       "  <tbody>\n",
       "    <tr>\n",
       "      <th>45</th>\n",
       "      <td>BYJU'S – The Learning App</td>\n",
       "      <td>Learning app with LIVE online classes, instant...</td>\n",
       "      <td>Learning app with LIVE online classes, instant...</td>\n",
       "      <td>Engaging video lessons, live classes, personal...</td>\n",
       "      <td>100000000</td>\n",
       "      <td>100000000</td>\n",
       "      <td>114971996</td>\n",
       "      <td>4.069768</td>\n",
       "      <td>1786288</td>\n",
       "      <td>0.0</td>\n",
       "      <td>...</td>\n",
       "      <td>EDUCATION</td>\n",
       "      <td>https://play-lh.googleusercontent.com/7Ce16xDk...</td>\n",
       "      <td>Everyone</td>\n",
       "      <td>False</td>\n",
       "      <td>False</td>\n",
       "      <td>Jul 6, 2015</td>\n",
       "      <td>10.10.0.14563</td>\n",
       "      <td>NaN</td>\n",
       "      <td>NaN</td>\n",
       "      <td>com.byjus.thelearningapp</td>\n",
       "    </tr>\n",
       "    <tr>\n",
       "      <th>152</th>\n",
       "      <td>Duolingo: language lessons</td>\n",
       "      <td>Learn a new language with the world’s most-dow...</td>\n",
       "      <td>Learn a new language with the world’s most-dow...</td>\n",
       "      <td>Learn Spanish, French, German, Italian, Englis...</td>\n",
       "      <td>100000000</td>\n",
       "      <td>100000000</td>\n",
       "      <td>366312703</td>\n",
       "      <td>4.605207</td>\n",
       "      <td>13615785</td>\n",
       "      <td>0.0</td>\n",
       "      <td>...</td>\n",
       "      <td>EDUCATION</td>\n",
       "      <td>https://play-lh.googleusercontent.com/hSyebBlY...</td>\n",
       "      <td>Everyone</td>\n",
       "      <td>True</td>\n",
       "      <td>True</td>\n",
       "      <td>May 29, 2013</td>\n",
       "      <td>Varies with device</td>\n",
       "      <td>It’s a bird… it’s a plane… it’s… Super Duo! (W...</td>\n",
       "      <td>It’s a bird… it’s a plane… it’s… Super Duo! (W...</td>\n",
       "      <td>com.duolingo</td>\n",
       "    </tr>\n",
       "    <tr>\n",
       "      <th>189</th>\n",
       "      <td>Photomath</td>\n",
       "      <td>Get the math app that gets you! With over 300-...</td>\n",
       "      <td>Get the math app that gets you! With over 300-...</td>\n",
       "      <td>Get math. Get Photomath.</td>\n",
       "      <td>100000000</td>\n",
       "      <td>100000000</td>\n",
       "      <td>191981233</td>\n",
       "      <td>4.625380</td>\n",
       "      <td>2769446</td>\n",
       "      <td>0.0</td>\n",
       "      <td>...</td>\n",
       "      <td>EDUCATION</td>\n",
       "      <td>https://play-lh.googleusercontent.com/E_kpq1HG...</td>\n",
       "      <td>Everyone</td>\n",
       "      <td>False</td>\n",
       "      <td>False</td>\n",
       "      <td>Feb 26, 2015</td>\n",
       "      <td>Varies with device</td>\n",
       "      <td>Is the air starting to feel a little cooler, o...</td>\n",
       "      <td>Is the air starting to feel a little cooler, o...</td>\n",
       "      <td>com.microblink.photomath</td>\n",
       "    </tr>\n",
       "    <tr>\n",
       "      <th>192</th>\n",
       "      <td>Brainly –Math Homework Answers</td>\n",
       "      <td>Take on the new school year with Brainly! Star...</td>\n",
       "      <td>Take on the new school year with Brainly! Star...</td>\n",
       "      <td>Back to school learning boost. Study math, geo...</td>\n",
       "      <td>100000000</td>\n",
       "      <td>100000000</td>\n",
       "      <td>190045682</td>\n",
       "      <td>4.372056</td>\n",
       "      <td>2667793</td>\n",
       "      <td>0.0</td>\n",
       "      <td>...</td>\n",
       "      <td>EDUCATION</td>\n",
       "      <td>https://play-lh.googleusercontent.com/KnPtV_tI...</td>\n",
       "      <td>Everyone</td>\n",
       "      <td>False</td>\n",
       "      <td>False</td>\n",
       "      <td>Sep 23, 2015</td>\n",
       "      <td>Varies with device</td>\n",
       "      <td>We are constantly updating our app to make it ...</td>\n",
       "      <td>We are constantly updating our app to make it ...</td>\n",
       "      <td>co.brainly</td>\n",
       "    </tr>\n",
       "    <tr>\n",
       "      <th>258</th>\n",
       "      <td>Google Classroom</td>\n",
       "      <td>Classroom makes it easy for learners and instr...</td>\n",
       "      <td>Classroom makes it easy for learners and instr...</td>\n",
       "      <td>Connect with your classes and do assignments o...</td>\n",
       "      <td>100000000</td>\n",
       "      <td>100000000</td>\n",
       "      <td>279708719</td>\n",
       "      <td>2.351187</td>\n",
       "      <td>1985912</td>\n",
       "      <td>0.0</td>\n",
       "      <td>...</td>\n",
       "      <td>EDUCATION</td>\n",
       "      <td>https://play-lh.googleusercontent.com/w0s3au7c...</td>\n",
       "      <td>Everyone</td>\n",
       "      <td>False</td>\n",
       "      <td>False</td>\n",
       "      <td>Jan 14, 2015</td>\n",
       "      <td>8.0.341.20.90.4</td>\n",
       "      <td>* Grading student work is faster with new navi...</td>\n",
       "      <td>* Grading student work is faster with new navi...</td>\n",
       "      <td>com.google.android.apps.classroom</td>\n",
       "    </tr>\n",
       "  </tbody>\n",
       "</table>\n",
       "<p>5 rows × 31 columns</p>\n",
       "</div>"
      ],
      "text/plain": [
       "                              title  \\\n",
       "45        BYJU'S – The Learning App   \n",
       "152      Duolingo: language lessons   \n",
       "189                       Photomath   \n",
       "192  Brainly –Math Homework Answers   \n",
       "258                Google Classroom   \n",
       "\n",
       "                                           description  \\\n",
       "45   Learning app with LIVE online classes, instant...   \n",
       "152  Learn a new language with the world’s most-dow...   \n",
       "189  Get the math app that gets you! With over 300-...   \n",
       "192  Take on the new school year with Brainly! Star...   \n",
       "258  Classroom makes it easy for learners and instr...   \n",
       "\n",
       "                                       descriptionHTML  \\\n",
       "45   Learning app with LIVE online classes, instant...   \n",
       "152  Learn a new language with the world’s most-dow...   \n",
       "189  Get the math app that gets you! With over 300-...   \n",
       "192  Take on the new school year with Brainly! Star...   \n",
       "258  Classroom makes it easy for learners and instr...   \n",
       "\n",
       "                                               summary   installs  \\\n",
       "45   Engaging video lessons, live classes, personal...  100000000   \n",
       "152  Learn Spanish, French, German, Italian, Englis...  100000000   \n",
       "189                           Get math. Get Photomath.  100000000   \n",
       "192  Back to school learning boost. Study math, geo...  100000000   \n",
       "258  Connect with your classes and do assignments o...  100000000   \n",
       "\n",
       "     minInstalls  realInstalls     score   ratings  price  ...    genreId  \\\n",
       "45     100000000     114971996  4.069768   1786288    0.0  ...  EDUCATION   \n",
       "152    100000000     366312703  4.605207  13615785    0.0  ...  EDUCATION   \n",
       "189    100000000     191981233  4.625380   2769446    0.0  ...  EDUCATION   \n",
       "192    100000000     190045682  4.372056   2667793    0.0  ...  EDUCATION   \n",
       "258    100000000     279708719  2.351187   1985912    0.0  ...  EDUCATION   \n",
       "\n",
       "                                                  icon contentRating  \\\n",
       "45   https://play-lh.googleusercontent.com/7Ce16xDk...      Everyone   \n",
       "152  https://play-lh.googleusercontent.com/hSyebBlY...      Everyone   \n",
       "189  https://play-lh.googleusercontent.com/E_kpq1HG...      Everyone   \n",
       "192  https://play-lh.googleusercontent.com/KnPtV_tI...      Everyone   \n",
       "258  https://play-lh.googleusercontent.com/w0s3au7c...      Everyone   \n",
       "\n",
       "    adSupported containsAds      released             version  \\\n",
       "45        False       False   Jul 6, 2015       10.10.0.14563   \n",
       "152        True        True  May 29, 2013  Varies with device   \n",
       "189       False       False  Feb 26, 2015  Varies with device   \n",
       "192       False       False  Sep 23, 2015  Varies with device   \n",
       "258       False       False  Jan 14, 2015     8.0.341.20.90.4   \n",
       "\n",
       "                                         recentChanges  \\\n",
       "45                                                 NaN   \n",
       "152  It’s a bird… it’s a plane… it’s… Super Duo! (W...   \n",
       "189  Is the air starting to feel a little cooler, o...   \n",
       "192  We are constantly updating our app to make it ...   \n",
       "258  * Grading student work is faster with new navi...   \n",
       "\n",
       "                                     recentChangesHTML  \\\n",
       "45                                                 NaN   \n",
       "152  It’s a bird… it’s a plane… it’s… Super Duo! (W...   \n",
       "189  Is the air starting to feel a little cooler, o...   \n",
       "192  We are constantly updating our app to make it ...   \n",
       "258  * Grading student work is faster with new navi...   \n",
       "\n",
       "                                 appId  \n",
       "45            com.byjus.thelearningapp  \n",
       "152                       com.duolingo  \n",
       "189           com.microblink.photomath  \n",
       "192                         co.brainly  \n",
       "258  com.google.android.apps.classroom  \n",
       "\n",
       "[5 rows x 31 columns]"
      ]
     },
     "execution_count": 73,
     "metadata": {},
     "output_type": "execute_result"
    }
   ],
   "source": [
    "education_one[education_one['minInstalls'] == max(education_one['minInstalls'])]"
   ]
  },
  {
   "cell_type": "markdown",
   "id": "b4ba0805",
   "metadata": {},
   "source": [
    "# Apps with max real Installs"
   ]
  },
  {
   "cell_type": "code",
   "execution_count": 75,
   "id": "e6100be5",
   "metadata": {},
   "outputs": [
    {
     "data": {
      "text/html": [
       "<div>\n",
       "<style scoped>\n",
       "    .dataframe tbody tr th:only-of-type {\n",
       "        vertical-align: middle;\n",
       "    }\n",
       "\n",
       "    .dataframe tbody tr th {\n",
       "        vertical-align: top;\n",
       "    }\n",
       "\n",
       "    .dataframe thead th {\n",
       "        text-align: right;\n",
       "    }\n",
       "</style>\n",
       "<table border=\"1\" class=\"dataframe\">\n",
       "  <thead>\n",
       "    <tr style=\"text-align: right;\">\n",
       "      <th></th>\n",
       "      <th>title</th>\n",
       "      <th>description</th>\n",
       "      <th>descriptionHTML</th>\n",
       "      <th>summary</th>\n",
       "      <th>installs</th>\n",
       "      <th>minInstalls</th>\n",
       "      <th>realInstalls</th>\n",
       "      <th>score</th>\n",
       "      <th>ratings</th>\n",
       "      <th>price</th>\n",
       "      <th>...</th>\n",
       "      <th>genreId</th>\n",
       "      <th>icon</th>\n",
       "      <th>contentRating</th>\n",
       "      <th>adSupported</th>\n",
       "      <th>containsAds</th>\n",
       "      <th>released</th>\n",
       "      <th>version</th>\n",
       "      <th>recentChanges</th>\n",
       "      <th>recentChangesHTML</th>\n",
       "      <th>appId</th>\n",
       "    </tr>\n",
       "  </thead>\n",
       "  <tbody>\n",
       "    <tr>\n",
       "      <th>152</th>\n",
       "      <td>Duolingo: language lessons</td>\n",
       "      <td>Learn a new language with the world’s most-dow...</td>\n",
       "      <td>Learn a new language with the world’s most-dow...</td>\n",
       "      <td>Learn Spanish, French, German, Italian, Englis...</td>\n",
       "      <td>100000000</td>\n",
       "      <td>100000000</td>\n",
       "      <td>366312703</td>\n",
       "      <td>4.605207</td>\n",
       "      <td>13615785</td>\n",
       "      <td>0.0</td>\n",
       "      <td>...</td>\n",
       "      <td>EDUCATION</td>\n",
       "      <td>https://play-lh.googleusercontent.com/hSyebBlY...</td>\n",
       "      <td>Everyone</td>\n",
       "      <td>True</td>\n",
       "      <td>True</td>\n",
       "      <td>May 29, 2013</td>\n",
       "      <td>Varies with device</td>\n",
       "      <td>It’s a bird… it’s a plane… it’s… Super Duo! (W...</td>\n",
       "      <td>It’s a bird… it’s a plane… it’s… Super Duo! (W...</td>\n",
       "      <td>com.duolingo</td>\n",
       "    </tr>\n",
       "  </tbody>\n",
       "</table>\n",
       "<p>1 rows × 31 columns</p>\n",
       "</div>"
      ],
      "text/plain": [
       "                          title  \\\n",
       "152  Duolingo: language lessons   \n",
       "\n",
       "                                           description  \\\n",
       "152  Learn a new language with the world’s most-dow...   \n",
       "\n",
       "                                       descriptionHTML  \\\n",
       "152  Learn a new language with the world’s most-dow...   \n",
       "\n",
       "                                               summary   installs  \\\n",
       "152  Learn Spanish, French, German, Italian, Englis...  100000000   \n",
       "\n",
       "     minInstalls  realInstalls     score   ratings  price  ...    genreId  \\\n",
       "152    100000000     366312703  4.605207  13615785    0.0  ...  EDUCATION   \n",
       "\n",
       "                                                  icon contentRating  \\\n",
       "152  https://play-lh.googleusercontent.com/hSyebBlY...      Everyone   \n",
       "\n",
       "    adSupported containsAds      released             version  \\\n",
       "152        True        True  May 29, 2013  Varies with device   \n",
       "\n",
       "                                         recentChanges  \\\n",
       "152  It’s a bird… it’s a plane… it’s… Super Duo! (W...   \n",
       "\n",
       "                                     recentChangesHTML         appId  \n",
       "152  It’s a bird… it’s a plane… it’s… Super Duo! (W...  com.duolingo  \n",
       "\n",
       "[1 rows x 31 columns]"
      ]
     },
     "execution_count": 75,
     "metadata": {},
     "output_type": "execute_result"
    }
   ],
   "source": [
    "education_one[education_one['realInstalls'] == max(education_one['realInstalls'])]"
   ]
  },
  {
   "cell_type": "markdown",
   "id": "c90a6d5f",
   "metadata": {},
   "source": [
    "# Top 5 Apps with max real installs"
   ]
  },
  {
   "cell_type": "code",
   "execution_count": 83,
   "id": "b6600e14",
   "metadata": {},
   "outputs": [
    {
     "data": {
      "text/html": [
       "<div>\n",
       "<style scoped>\n",
       "    .dataframe tbody tr th:only-of-type {\n",
       "        vertical-align: middle;\n",
       "    }\n",
       "\n",
       "    .dataframe tbody tr th {\n",
       "        vertical-align: top;\n",
       "    }\n",
       "\n",
       "    .dataframe thead th {\n",
       "        text-align: right;\n",
       "    }\n",
       "</style>\n",
       "<table border=\"1\" class=\"dataframe\">\n",
       "  <thead>\n",
       "    <tr style=\"text-align: right;\">\n",
       "      <th></th>\n",
       "      <th>title</th>\n",
       "      <th>realInstalls</th>\n",
       "    </tr>\n",
       "  </thead>\n",
       "  <tbody>\n",
       "    <tr>\n",
       "      <th>152</th>\n",
       "      <td>Duolingo: language lessons</td>\n",
       "      <td>366312703</td>\n",
       "    </tr>\n",
       "    <tr>\n",
       "      <th>258</th>\n",
       "      <td>Google Classroom</td>\n",
       "      <td>279708719</td>\n",
       "    </tr>\n",
       "    <tr>\n",
       "      <th>189</th>\n",
       "      <td>Photomath</td>\n",
       "      <td>191981233</td>\n",
       "    </tr>\n",
       "    <tr>\n",
       "      <th>192</th>\n",
       "      <td>Brainly –Math Homework Answers</td>\n",
       "      <td>190045682</td>\n",
       "    </tr>\n",
       "    <tr>\n",
       "      <th>45</th>\n",
       "      <td>BYJU'S – The Learning App</td>\n",
       "      <td>114971996</td>\n",
       "    </tr>\n",
       "  </tbody>\n",
       "</table>\n",
       "</div>"
      ],
      "text/plain": [
       "                              title  realInstalls\n",
       "152      Duolingo: language lessons     366312703\n",
       "258                Google Classroom     279708719\n",
       "189                       Photomath     191981233\n",
       "192  Brainly –Math Homework Answers     190045682\n",
       "45        BYJU'S – The Learning App     114971996"
      ]
     },
     "execution_count": 83,
     "metadata": {},
     "output_type": "execute_result"
    }
   ],
   "source": [
    "education_one.sort_values(by= ['realInstalls'], ascending = False).iloc[:5,:][['title','realInstalls']]"
   ]
  },
  {
   "cell_type": "raw",
   "id": "66167180",
   "metadata": {},
   "source": [
    "## Inference - Duolingo is more than 3 times BYJU's"
   ]
  },
  {
   "cell_type": "markdown",
   "id": "11ffd858",
   "metadata": {},
   "source": [
    "# Mean of apps score"
   ]
  },
  {
   "cell_type": "code",
   "execution_count": 85,
   "id": "3117e573",
   "metadata": {},
   "outputs": [
    {
     "data": {
      "text/plain": [
       "2.323799330449828"
      ]
     },
     "execution_count": 85,
     "metadata": {},
     "output_type": "execute_result"
    }
   ],
   "source": [
    "education_one['score'].mean()"
   ]
  },
  {
   "cell_type": "code",
   "execution_count": 86,
   "id": "8d587544",
   "metadata": {},
   "outputs": [
    {
     "data": {
      "text/plain": [
       "genre\n",
       "Books & Reference    0.000000\n",
       "Business             0.992574\n",
       "Education            2.129904\n",
       "Educational          3.615834\n",
       "Events               0.000000\n",
       "Finance              0.000000\n",
       "Health & Fitness     2.707240\n",
       "Lifestyle            2.169231\n",
       "Medical              3.680275\n",
       "News & Magazines     4.356436\n",
       "Productivity         1.983925\n",
       "Puzzle               3.831683\n",
       "Sports               3.795341\n",
       "Tools                4.090000\n",
       "Name: score, dtype: float64"
      ]
     },
     "execution_count": 86,
     "metadata": {},
     "output_type": "execute_result"
    }
   ],
   "source": [
    "education_one.groupby('genre')['score'].mean()"
   ]
  },
  {
   "cell_type": "markdown",
   "id": "0cad6384",
   "metadata": {},
   "source": [
    "# Apps with score more than 4.5"
   ]
  },
  {
   "cell_type": "code",
   "execution_count": 92,
   "id": "ef5a5f22",
   "metadata": {},
   "outputs": [
    {
     "data": {
      "text/html": [
       "<div>\n",
       "<style scoped>\n",
       "    .dataframe tbody tr th:only-of-type {\n",
       "        vertical-align: middle;\n",
       "    }\n",
       "\n",
       "    .dataframe tbody tr th {\n",
       "        vertical-align: top;\n",
       "    }\n",
       "\n",
       "    .dataframe thead th {\n",
       "        text-align: right;\n",
       "    }\n",
       "</style>\n",
       "<table border=\"1\" class=\"dataframe\">\n",
       "  <thead>\n",
       "    <tr style=\"text-align: right;\">\n",
       "      <th></th>\n",
       "      <th>title</th>\n",
       "      <th>score</th>\n",
       "    </tr>\n",
       "  </thead>\n",
       "  <tbody>\n",
       "    <tr>\n",
       "      <th>223</th>\n",
       "      <td>MDCalc Medical Calculator</td>\n",
       "      <td>4.912162</td>\n",
       "    </tr>\n",
       "    <tr>\n",
       "      <th>181</th>\n",
       "      <td>HelloChinese: Learn Chinese</td>\n",
       "      <td>4.865827</td>\n",
       "    </tr>\n",
       "    <tr>\n",
       "      <th>11</th>\n",
       "      <td>Insights IAS UPSC Civil Servic</td>\n",
       "      <td>4.842105</td>\n",
       "    </tr>\n",
       "    <tr>\n",
       "      <th>73</th>\n",
       "      <td>Learn Python: Ultimate Guide</td>\n",
       "      <td>4.792531</td>\n",
       "    </tr>\n",
       "    <tr>\n",
       "      <th>214</th>\n",
       "      <td>DailyRounds - Cases, Drug Guid</td>\n",
       "      <td>4.768750</td>\n",
       "    </tr>\n",
       "    <tr>\n",
       "      <th>1</th>\n",
       "      <td>UPSC IAS Syllabus Preparation</td>\n",
       "      <td>4.766667</td>\n",
       "    </tr>\n",
       "    <tr>\n",
       "      <th>59</th>\n",
       "      <td>Learn Coding/Programming: Mimo</td>\n",
       "      <td>4.758361</td>\n",
       "    </tr>\n",
       "    <tr>\n",
       "      <th>255</th>\n",
       "      <td>Domestika - Online courses</td>\n",
       "      <td>4.747663</td>\n",
       "    </tr>\n",
       "    <tr>\n",
       "      <th>61</th>\n",
       "      <td>Programming Hub: Learn to code</td>\n",
       "      <td>4.733117</td>\n",
       "    </tr>\n",
       "    <tr>\n",
       "      <th>162</th>\n",
       "      <td>Extramarks – The Learning App</td>\n",
       "      <td>4.730000</td>\n",
       "    </tr>\n",
       "    <tr>\n",
       "      <th>104</th>\n",
       "      <td>Extramarks – The Learning App</td>\n",
       "      <td>4.730000</td>\n",
       "    </tr>\n",
       "    <tr>\n",
       "      <th>209</th>\n",
       "      <td>Osmosis Med Videos &amp; Notes</td>\n",
       "      <td>4.730000</td>\n",
       "    </tr>\n",
       "    <tr>\n",
       "      <th>241</th>\n",
       "      <td>LinkedIn Learning</td>\n",
       "      <td>4.722222</td>\n",
       "    </tr>\n",
       "    <tr>\n",
       "      <th>161</th>\n",
       "      <td>LinkedIn Learning</td>\n",
       "      <td>4.722222</td>\n",
       "    </tr>\n",
       "    <tr>\n",
       "      <th>10</th>\n",
       "      <td>IAS UPSC Civil Services by Civ</td>\n",
       "      <td>4.720930</td>\n",
       "    </tr>\n",
       "    <tr>\n",
       "      <th>53</th>\n",
       "      <td>Wellness Coach:Mind Body Sleep</td>\n",
       "      <td>4.720000</td>\n",
       "    </tr>\n",
       "    <tr>\n",
       "      <th>81</th>\n",
       "      <td>Learn Web Development</td>\n",
       "      <td>4.710000</td>\n",
       "    </tr>\n",
       "    <tr>\n",
       "      <th>79</th>\n",
       "      <td>Learn HTML</td>\n",
       "      <td>4.710000</td>\n",
       "    </tr>\n",
       "    <tr>\n",
       "      <th>69</th>\n",
       "      <td>Programming Hero: Coding Fun</td>\n",
       "      <td>4.706552</td>\n",
       "    </tr>\n",
       "    <tr>\n",
       "      <th>193</th>\n",
       "      <td>Microsoft Math Solver</td>\n",
       "      <td>4.700277</td>\n",
       "    </tr>\n",
       "    <tr>\n",
       "      <th>176</th>\n",
       "      <td>Learn English, Get Fluent</td>\n",
       "      <td>4.693150</td>\n",
       "    </tr>\n",
       "    <tr>\n",
       "      <th>5</th>\n",
       "      <td>VISION IAS</td>\n",
       "      <td>4.688889</td>\n",
       "    </tr>\n",
       "    <tr>\n",
       "      <th>205</th>\n",
       "      <td>Lecturio Medical Education</td>\n",
       "      <td>4.670000</td>\n",
       "    </tr>\n",
       "    <tr>\n",
       "      <th>186</th>\n",
       "      <td>Rosetta Stone: Learn, Practice</td>\n",
       "      <td>4.656058</td>\n",
       "    </tr>\n",
       "    <tr>\n",
       "      <th>78</th>\n",
       "      <td>Learn Java</td>\n",
       "      <td>4.650406</td>\n",
       "    </tr>\n",
       "    <tr>\n",
       "      <th>87</th>\n",
       "      <td>Codecademy Go</td>\n",
       "      <td>4.647059</td>\n",
       "    </tr>\n",
       "    <tr>\n",
       "      <th>198</th>\n",
       "      <td>Fun Math Facts: Games for Kids</td>\n",
       "      <td>4.634615</td>\n",
       "    </tr>\n",
       "    <tr>\n",
       "      <th>189</th>\n",
       "      <td>Photomath</td>\n",
       "      <td>4.625380</td>\n",
       "    </tr>\n",
       "    <tr>\n",
       "      <th>236</th>\n",
       "      <td>Alison: Online Courses</td>\n",
       "      <td>4.624000</td>\n",
       "    </tr>\n",
       "    <tr>\n",
       "      <th>116</th>\n",
       "      <td>Oda Class: LIVE Learning App</td>\n",
       "      <td>4.620000</td>\n",
       "    </tr>\n",
       "    <tr>\n",
       "      <th>221</th>\n",
       "      <td>Medical FlashNotes</td>\n",
       "      <td>4.615385</td>\n",
       "    </tr>\n",
       "    <tr>\n",
       "      <th>178</th>\n",
       "      <td>Learn 33 Languages - Mondly</td>\n",
       "      <td>4.614126</td>\n",
       "    </tr>\n",
       "    <tr>\n",
       "      <th>213</th>\n",
       "      <td>MedSchool</td>\n",
       "      <td>4.607143</td>\n",
       "    </tr>\n",
       "    <tr>\n",
       "      <th>152</th>\n",
       "      <td>Duolingo: language lessons</td>\n",
       "      <td>4.605207</td>\n",
       "    </tr>\n",
       "    <tr>\n",
       "      <th>149</th>\n",
       "      <td>edX: Online Courses by Harvard</td>\n",
       "      <td>4.604651</td>\n",
       "    </tr>\n",
       "    <tr>\n",
       "      <th>184</th>\n",
       "      <td>Memrise Easy Language Learning</td>\n",
       "      <td>4.592779</td>\n",
       "    </tr>\n",
       "    <tr>\n",
       "      <th>85</th>\n",
       "      <td>Online Compiler - Code on Mobi</td>\n",
       "      <td>4.580000</td>\n",
       "    </tr>\n",
       "    <tr>\n",
       "      <th>182</th>\n",
       "      <td>Learn Korean. Speak Korean</td>\n",
       "      <td>4.576369</td>\n",
       "    </tr>\n",
       "    <tr>\n",
       "      <th>177</th>\n",
       "      <td>Babbel - Learn Languages</td>\n",
       "      <td>4.568499</td>\n",
       "    </tr>\n",
       "    <tr>\n",
       "      <th>31</th>\n",
       "      <td>Virtuagym Coach</td>\n",
       "      <td>4.567567</td>\n",
       "    </tr>\n",
       "    <tr>\n",
       "      <th>212</th>\n",
       "      <td>Teach Me Anatomy</td>\n",
       "      <td>4.560976</td>\n",
       "    </tr>\n",
       "    <tr>\n",
       "      <th>60</th>\n",
       "      <td>Sololearn: Learn to Code</td>\n",
       "      <td>4.555682</td>\n",
       "    </tr>\n",
       "    <tr>\n",
       "      <th>211</th>\n",
       "      <td>Prognosis : Your Diagnosis</td>\n",
       "      <td>4.555555</td>\n",
       "    </tr>\n",
       "    <tr>\n",
       "      <th>183</th>\n",
       "      <td>Learn Languages - FunEasyLearn</td>\n",
       "      <td>4.550000</td>\n",
       "    </tr>\n",
       "    <tr>\n",
       "      <th>33</th>\n",
       "      <td>CoachNow: Coaching Platform</td>\n",
       "      <td>4.540000</td>\n",
       "    </tr>\n",
       "    <tr>\n",
       "      <th>164</th>\n",
       "      <td>Entri: Learning App for Jobs</td>\n",
       "      <td>4.530000</td>\n",
       "    </tr>\n",
       "    <tr>\n",
       "      <th>24</th>\n",
       "      <td>Adda247 : Govt Job Prep &amp; more</td>\n",
       "      <td>4.530000</td>\n",
       "    </tr>\n",
       "    <tr>\n",
       "      <th>94</th>\n",
       "      <td>Entri: Learning App for Jobs</td>\n",
       "      <td>4.530000</td>\n",
       "    </tr>\n",
       "    <tr>\n",
       "      <th>185</th>\n",
       "      <td>Busuu: Learn Languages</td>\n",
       "      <td>4.513710</td>\n",
       "    </tr>\n",
       "    <tr>\n",
       "      <th>77</th>\n",
       "      <td>Encode: Learn to Code</td>\n",
       "      <td>4.509934</td>\n",
       "    </tr>\n",
       "    <tr>\n",
       "      <th>204</th>\n",
       "      <td>Cymath - Math Problem Solver</td>\n",
       "      <td>4.509479</td>\n",
       "    </tr>\n",
       "    <tr>\n",
       "      <th>133</th>\n",
       "      <td>Nursing Exam</td>\n",
       "      <td>4.506667</td>\n",
       "    </tr>\n",
       "  </tbody>\n",
       "</table>\n",
       "</div>"
      ],
      "text/plain": [
       "                              title     score\n",
       "223       MDCalc Medical Calculator  4.912162\n",
       "181     HelloChinese: Learn Chinese  4.865827\n",
       "11   Insights IAS UPSC Civil Servic  4.842105\n",
       "73     Learn Python: Ultimate Guide  4.792531\n",
       "214  DailyRounds - Cases, Drug Guid  4.768750\n",
       "1     UPSC IAS Syllabus Preparation  4.766667\n",
       "59   Learn Coding/Programming: Mimo  4.758361\n",
       "255      Domestika - Online courses  4.747663\n",
       "61   Programming Hub: Learn to code  4.733117\n",
       "162   Extramarks – The Learning App  4.730000\n",
       "104   Extramarks – The Learning App  4.730000\n",
       "209      Osmosis Med Videos & Notes  4.730000\n",
       "241               LinkedIn Learning  4.722222\n",
       "161               LinkedIn Learning  4.722222\n",
       "10   IAS UPSC Civil Services by Civ  4.720930\n",
       "53   Wellness Coach:Mind Body Sleep  4.720000\n",
       "81            Learn Web Development  4.710000\n",
       "79                       Learn HTML  4.710000\n",
       "69     Programming Hero: Coding Fun  4.706552\n",
       "193           Microsoft Math Solver  4.700277\n",
       "176       Learn English, Get Fluent  4.693150\n",
       "5                        VISION IAS  4.688889\n",
       "205      Lecturio Medical Education  4.670000\n",
       "186  Rosetta Stone: Learn, Practice  4.656058\n",
       "78                       Learn Java  4.650406\n",
       "87                    Codecademy Go  4.647059\n",
       "198  Fun Math Facts: Games for Kids  4.634615\n",
       "189                       Photomath  4.625380\n",
       "236          Alison: Online Courses  4.624000\n",
       "116    Oda Class: LIVE Learning App  4.620000\n",
       "221              Medical FlashNotes  4.615385\n",
       "178     Learn 33 Languages - Mondly  4.614126\n",
       "213                       MedSchool  4.607143\n",
       "152      Duolingo: language lessons  4.605207\n",
       "149  edX: Online Courses by Harvard  4.604651\n",
       "184  Memrise Easy Language Learning  4.592779\n",
       "85   Online Compiler - Code on Mobi  4.580000\n",
       "182      Learn Korean. Speak Korean  4.576369\n",
       "177        Babbel - Learn Languages  4.568499\n",
       "31                  Virtuagym Coach  4.567567\n",
       "212                Teach Me Anatomy  4.560976\n",
       "60         Sololearn: Learn to Code  4.555682\n",
       "211      Prognosis : Your Diagnosis  4.555555\n",
       "183  Learn Languages - FunEasyLearn  4.550000\n",
       "33      CoachNow: Coaching Platform  4.540000\n",
       "164    Entri: Learning App for Jobs  4.530000\n",
       "24   Adda247 : Govt Job Prep & more  4.530000\n",
       "94     Entri: Learning App for Jobs  4.530000\n",
       "185          Busuu: Learn Languages  4.513710\n",
       "77            Encode: Learn to Code  4.509934\n",
       "204    Cymath - Math Problem Solver  4.509479\n",
       "133                    Nursing Exam  4.506667"
      ]
     },
     "execution_count": 92,
     "metadata": {},
     "output_type": "execute_result"
    }
   ],
   "source": [
    "education_one[education_one['score'] > 4.5 ][['title','score']].sort_values(by=['score'], ascending = False)"
   ]
  },
  {
   "cell_type": "code",
   "execution_count": 94,
   "id": "1b6d0e8c",
   "metadata": {},
   "outputs": [
    {
     "data": {
      "image/png": "[encoded data removed]",
      "text/plain": [
       "<Figure size 1080x1080 with 6 Axes>"
      ]
     },
     "metadata": {
      "needs_background": "light"
     },
     "output_type": "display_data"
    }
   ],
   "source": [
    "plt.figure(figsize=(15,15))\n",
    "plt.suptitle(\"Scatter plot\")\n",
    "\n",
    "for i in range(len(numeric_col)):\n",
    "    plt.subplot(4,3,i+1)\n",
    "    sns.scatterplot(x='score',y =numeric_col[i], data =education_one )\n",
    "    plt.xlabel('score')\n",
    "    plt.ylabel(numeric_col[i])\n",
    "    plt.tight_layout()"
   ]
  },
  {
   "cell_type": "raw",
   "id": "769138cf",
   "metadata": {},
   "source": [
    "- Inference :\n",
    "    - score has no relation with number of installs or number of ratings"
   ]
  },
  {
   "cell_type": "code",
   "execution_count": 96,
   "id": "9b193067",
   "metadata": {},
   "outputs": [],
   "source": [
    "# Converting released feature to datetime.\n",
    "education_one['released']= pd.to_datetime(education_one['released'])"
   ]
  },
  {
   "cell_type": "code",
   "execution_count": 98,
   "id": "2d6af1ff",
   "metadata": {},
   "outputs": [],
   "source": [
    "education_one['released_year'] = education_one['released'].dt.year"
   ]
  },
  {
   "cell_type": "code",
   "execution_count": 113,
   "id": "c3ef5427",
   "metadata": {},
   "outputs": [
    {
     "data": {
      "text/plain": [
       "2019.0"
      ]
     },
     "execution_count": 113,
     "metadata": {},
     "output_type": "execute_result"
    }
   ],
   "source": [
    "education_one['released_year'].median()"
   ]
  },
  {
   "cell_type": "code",
   "execution_count": 114,
   "id": "a8fff682",
   "metadata": {},
   "outputs": [],
   "source": [
    "# Filling nan values with median value\n",
    "education_one['released_year'].fillna((education_one['released_year'].median()), inplace=True)"
   ]
  },
  {
   "cell_type": "code",
   "execution_count": 115,
   "id": "0cad6bf5",
   "metadata": {},
   "outputs": [
    {
     "data": {
      "text/plain": [
       "array([2019., 2017., 2015., 2021., 2020., 2022., 2016., 2018., 2014.,\n",
       "       2013., 2012., 2011.])"
      ]
     },
     "execution_count": 115,
     "metadata": {},
     "output_type": "execute_result"
    }
   ],
   "source": [
    "education_one['released_year'].unique()"
   ]
  },
  {
   "cell_type": "code",
   "execution_count": 116,
   "id": "0459d5fe",
   "metadata": {},
   "outputs": [],
   "source": [
    "# converting year to int\n",
    "education_one['released_year'] = education_one['released_year'].astype('int')"
   ]
  },
  {
   "cell_type": "code",
   "execution_count": 117,
   "id": "4404171f",
   "metadata": {},
   "outputs": [
    {
     "data": {
      "image/png": "[encoded data removed]",
      "text/plain": [
       "<Figure size 1080x1080 with 6 Axes>"
      ]
     },
     "metadata": {
      "needs_background": "light"
     },
     "output_type": "display_data"
    }
   ],
   "source": [
    "plt.figure(figsize=(15,15))\n",
    "plt.suptitle(\"Scatter plot\")\n",
    "\n",
    "for i in range(len(numeric_col)):\n",
    "    plt.subplot(4,3,i+1)\n",
    "    sns.scatterplot(x='released_year',y =numeric_col[i], data =education_one )\n",
    "    plt.xlabel('released_year')\n",
    "    plt.ylabel(numeric_col[i])\n",
    "    plt.tight_layout()"
   ]
  },
  {
   "cell_type": "raw",
   "id": "8cae7f21",
   "metadata": {},
   "source": [
    "Inference:\n",
    "Released year does not have any relation with installs, score and ratings"
   ]
  },
  {
   "cell_type": "markdown",
   "id": "b7cf01de",
   "metadata": {},
   "source": [
    "# No. of apps released per year"
   ]
  },
  {
   "cell_type": "code",
   "execution_count": 133,
   "id": "d62ddcd8",
   "metadata": {},
   "outputs": [
    {
     "data": {
      "text/plain": [
       "released_year\n",
       "2011     3\n",
       "2012     2\n",
       "2013     8\n",
       "2014    20\n",
       "2015    29\n",
       "2016    23\n",
       "2017    27\n",
       "2018    21\n",
       "2019    49\n",
       "2020    53\n",
       "2021    39\n",
       "2022    15\n",
       "Name: title, dtype: int64"
      ]
     },
     "execution_count": 133,
     "metadata": {},
     "output_type": "execute_result"
    }
   ],
   "source": [
    "education_one.groupby('released_year')['title'].count()"
   ]
  },
  {
   "cell_type": "raw",
   "id": "cac25b9d",
   "metadata": {},
   "source": [
    "Inference - \n",
    "- Maximum number of apps were released in 2019 and 2022"
   ]
  },
  {
   "cell_type": "code",
   "execution_count": 121,
   "id": "9f9f8a38",
   "metadata": {},
   "outputs": [
    {
     "data": {
      "text/plain": [
       "234"
      ]
     },
     "execution_count": 121,
     "metadata": {},
     "output_type": "execute_result"
    }
   ],
   "source": [
    "# Unique number of developers\n",
    "len(education_one['developerId'].unique())"
   ]
  },
  {
   "cell_type": "code",
   "execution_count": 122,
   "id": "b716ba5b",
   "metadata": {},
   "outputs": [
    {
     "data": {
      "text/html": [
       "<div>\n",
       "<style scoped>\n",
       "    .dataframe tbody tr th:only-of-type {\n",
       "        vertical-align: middle;\n",
       "    }\n",
       "\n",
       "    .dataframe tbody tr th {\n",
       "        vertical-align: top;\n",
       "    }\n",
       "\n",
       "    .dataframe thead th {\n",
       "        text-align: right;\n",
       "    }\n",
       "</style>\n",
       "<table border=\"1\" class=\"dataframe\">\n",
       "  <thead>\n",
       "    <tr style=\"text-align: right;\">\n",
       "      <th></th>\n",
       "      <th>installs</th>\n",
       "      <th>minInstalls</th>\n",
       "      <th>realInstalls</th>\n",
       "      <th>score</th>\n",
       "      <th>ratings</th>\n",
       "      <th>price</th>\n",
       "      <th>released_year</th>\n",
       "    </tr>\n",
       "  </thead>\n",
       "  <tbody>\n",
       "    <tr>\n",
       "      <th>installs</th>\n",
       "      <td>1.000000</td>\n",
       "      <td>1.000000</td>\n",
       "      <td>0.912869</td>\n",
       "      <td>0.251331</td>\n",
       "      <td>0.679590</td>\n",
       "      <td>-0.017491</td>\n",
       "      <td>-0.281327</td>\n",
       "    </tr>\n",
       "    <tr>\n",
       "      <th>minInstalls</th>\n",
       "      <td>1.000000</td>\n",
       "      <td>1.000000</td>\n",
       "      <td>0.912869</td>\n",
       "      <td>0.251331</td>\n",
       "      <td>0.679590</td>\n",
       "      <td>-0.017491</td>\n",
       "      <td>-0.281327</td>\n",
       "    </tr>\n",
       "    <tr>\n",
       "      <th>realInstalls</th>\n",
       "      <td>0.912869</td>\n",
       "      <td>0.912869</td>\n",
       "      <td>1.000000</td>\n",
       "      <td>0.218284</td>\n",
       "      <td>0.852875</td>\n",
       "      <td>-0.015401</td>\n",
       "      <td>-0.269182</td>\n",
       "    </tr>\n",
       "    <tr>\n",
       "      <th>score</th>\n",
       "      <td>0.251331</td>\n",
       "      <td>0.251331</td>\n",
       "      <td>0.218284</td>\n",
       "      <td>1.000000</td>\n",
       "      <td>0.162584</td>\n",
       "      <td>-0.063966</td>\n",
       "      <td>-0.612542</td>\n",
       "    </tr>\n",
       "    <tr>\n",
       "      <th>ratings</th>\n",
       "      <td>0.679590</td>\n",
       "      <td>0.679590</td>\n",
       "      <td>0.852875</td>\n",
       "      <td>0.162584</td>\n",
       "      <td>1.000000</td>\n",
       "      <td>-0.010207</td>\n",
       "      <td>-0.224602</td>\n",
       "    </tr>\n",
       "    <tr>\n",
       "      <th>price</th>\n",
       "      <td>-0.017491</td>\n",
       "      <td>-0.017491</td>\n",
       "      <td>-0.015401</td>\n",
       "      <td>-0.063966</td>\n",
       "      <td>-0.010207</td>\n",
       "      <td>1.000000</td>\n",
       "      <td>0.066229</td>\n",
       "    </tr>\n",
       "    <tr>\n",
       "      <th>released_year</th>\n",
       "      <td>-0.281327</td>\n",
       "      <td>-0.281327</td>\n",
       "      <td>-0.269182</td>\n",
       "      <td>-0.612542</td>\n",
       "      <td>-0.224602</td>\n",
       "      <td>0.066229</td>\n",
       "      <td>1.000000</td>\n",
       "    </tr>\n",
       "  </tbody>\n",
       "</table>\n",
       "</div>"
      ],
      "text/plain": [
       "               installs  minInstalls  realInstalls     score   ratings  \\\n",
       "installs       1.000000     1.000000      0.912869  0.251331  0.679590   \n",
       "minInstalls    1.000000     1.000000      0.912869  0.251331  0.679590   \n",
       "realInstalls   0.912869     0.912869      1.000000  0.218284  0.852875   \n",
       "score          0.251331     0.251331      0.218284  1.000000  0.162584   \n",
       "ratings        0.679590     0.679590      0.852875  0.162584  1.000000   \n",
       "price         -0.017491    -0.017491     -0.015401 -0.063966 -0.010207   \n",
       "released_year -0.281327    -0.281327     -0.269182 -0.612542 -0.224602   \n",
       "\n",
       "                  price  released_year  \n",
       "installs      -0.017491      -0.281327  \n",
       "minInstalls   -0.017491      -0.281327  \n",
       "realInstalls  -0.015401      -0.269182  \n",
       "score         -0.063966      -0.612542  \n",
       "ratings       -0.010207      -0.224602  \n",
       "price          1.000000       0.066229  \n",
       "released_year  0.066229       1.000000  "
      ]
     },
     "execution_count": 122,
     "metadata": {},
     "output_type": "execute_result"
    }
   ],
   "source": [
    "education_one.corr()"
   ]
  },
  {
   "cell_type": "code",
   "execution_count": 126,
   "id": "aff35289",
   "metadata": {},
   "outputs": [
    {
     "data": {
      "text/plain": [
       "<AxesSubplot:>"
      ]
     },
     "execution_count": 126,
     "metadata": {},
     "output_type": "execute_result"
    },
    {
     "data": {
      "image/png": "[encoded data removed]",
      "text/plain": [
       "<Figure size 720x720 with 2 Axes>"
      ]
     },
     "metadata": {
      "needs_background": "light"
     },
     "output_type": "display_data"
    }
   ],
   "source": [
    "plt.figure(figsize=(10,10))\n",
    "sns.heatmap(data= education_one.corr(), annot = True)"
   ]
  },
  {
   "cell_type": "markdown",
   "id": "5072abcf",
   "metadata": {},
   "source": [
    "Inference - \n",
    "- Installs, realInstalls, and mininstalls are all correlated\n",
    "- number of ratings is also related to realinstalls"
   ]
  }
 ],
 "metadata": {
  "kernelspec": {
   "display_name": "Python 3 (ipykernel)",
   "language": "python",
   "name": "python3"
  },
  "language_info": {
   "codemirror_mode": {
    "name": "ipython",
    "version": 3
   },
   "file_extension": ".py",
   "mimetype": "text/x-python",
   "name": "python",
   "nbconvert_exporter": "python",
   "pygments_lexer": "ipython3",
   "version": "3.9.12"
  }
 },
 "nbformat": 4,
 "nbformat_minor": 5
}
